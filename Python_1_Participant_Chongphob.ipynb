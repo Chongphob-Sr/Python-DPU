{
  "cells": [
    {
      "cell_type": "markdown",
      "metadata": {
        "id": "view-in-github",
        "colab_type": "text"
      },
      "source": [
        "<a href=\"https://colab.research.google.com/github/Chongphob-Sr/Python-DPU/blob/main/Python_1_Participant_Chongphob.ipynb\" target=\"_parent\"><img src=\"https://colab.research.google.com/assets/colab-badge.svg\" alt=\"Open In Colab\"/></a>"
      ]
    },
    {
      "cell_type": "markdown",
      "source": [
        "# Python Crash Course\n",
        "This is a quick Python recap; meant for either \n",
        "- those who are already experienced in Python programming, or\n",
        "- those who have some programming background and want to get up to speed with Python.\n",
        "\n",
        "Notebook written by Papoj Thamjaroenporn, 2022.\n",
        "\n",
        "Some original materials by Mathieu Blondel."
      ],
      "metadata": {
        "id": "RFko1U1jg9rG"
      }
    },
    {
      "cell_type": "markdown",
      "source": [
        "## Getting Started: Hello World!"
      ],
      "metadata": {
        "id": "rr22uvyRgu5T"
      }
    },
    {
      "cell_type": "code",
      "source": [
        "# Your code her\n",
        "print(\"Hello World !\")"
      ],
      "metadata": {
        "id": "QjVPbGSLgtnO",
        "colab": {
          "base_uri": "https://localhost:8080/"
        },
        "outputId": "89616cb2-fc13-4e70-f839-53571586ffaa"
      },
      "execution_count": null,
      "outputs": [
        {
          "output_type": "stream",
          "name": "stdout",
          "text": [
            "Hello World !\n"
          ]
        }
      ]
    },
    {
      "cell_type": "code",
      "source": [
        "# Which Python version am I using?\n",
        "!python --version"
      ],
      "metadata": {
        "colab": {
          "base_uri": "https://localhost:8080/"
        },
        "id": "bVB5clLPamEQ",
        "outputId": "1f85ba73-432a-4151-eace-8e3bf6f4929a"
      },
      "execution_count": null,
      "outputs": [
        {
          "output_type": "stream",
          "name": "stdout",
          "text": [
            "Python 3.8.10\n"
          ]
        }
      ]
    },
    {
      "cell_type": "code",
      "source": [
        "print(\"TCRB')"
      ],
      "metadata": {
        "colab": {
          "base_uri": "https://localhost:8080/",
          "height": 133
        },
        "id": "sT16mgemrFxC",
        "outputId": "bbe89e7d-5709-403f-f652-84d58f3d9eb4"
      },
      "execution_count": null,
      "outputs": [
        {
          "output_type": "error",
          "ename": "SyntaxError",
          "evalue": "ignored",
          "traceback": [
            "\u001b[0;36m  File \u001b[0;32m\"<ipython-input-4-3d7bb904d339>\"\u001b[0;36m, line \u001b[0;32m1\u001b[0m\n\u001b[0;31m    print(\"TCRB')\u001b[0m\n\u001b[0m                 ^\u001b[0m\n\u001b[0;31mSyntaxError\u001b[0m\u001b[0;31m:\u001b[0m EOL while scanning string literal\n"
          ]
        }
      ]
    },
    {
      "cell_type": "markdown",
      "source": [
        "## About Jupyter Notebook and Google Colab"
      ],
      "metadata": {
        "id": "s1Bv8vPKcCpE"
      }
    },
    {
      "cell_type": "markdown",
      "source": [
        "We will use Jupyter notebooks and Google colab as the primary way to practice machine learning. \n",
        "\n",
        "Notebooks are a great way to mix executable **code** with **rich contents** (HTML, images, equations written in LaTeX). \n",
        "\n",
        "Example of a LaTeX equation:\n",
        "\n",
        "-- Your equation here --\n",
        "$$y = mx^ + b$$\n",
        "\n",
        "Example of an image attachment:\n",
        "![CoLab Logo](https://www.vlrtraining.in/wp-content/uploads/2020/10/logo-devops-768x876.png)"
      ],
      "metadata": {
        "id": "6vHKO_pfcFrU"
      }
    },
    {
      "cell_type": "markdown",
      "source": [
        "## Python Comments"
      ],
      "metadata": {
        "id": "k5hy9d1qe-Fp"
      }
    },
    {
      "cell_type": "markdown",
      "source": [
        "A function looks like this: `f(x)`.\n",
        "- `x` is the input,\n",
        "- `f` is the name of your function,\n",
        "- `f(x)` is the output.\n",
        "\n",
        "So `print` and `str` are functions."
      ],
      "metadata": {
        "id": "GZBU52MXZ9D5"
      }
    },
    {
      "cell_type": "code",
      "source": [
        "# This is a comment\n",
        "print(\"Your code runs here.\")\n",
        "\n",
        "print(\"Your code here will also run.\") # But this will not run\n",
        "\n",
        "\"\"\"You can also write\n",
        "multiple lines of code\n",
        "using triple-quote notation.\n",
        "\"\"\"\n",
        "x = 1\n",
        "y = 2\n",
        "print(\"Your code here will run yet again. What's x + y? Answer: \" + str(x + y))"
      ],
      "metadata": {
        "colab": {
          "base_uri": "https://localhost:8080/"
        },
        "id": "oLTGUkjue_vK",
        "outputId": "a16d95b0-b288-4dcd-e884-2a20f58974de"
      },
      "execution_count": null,
      "outputs": [
        {
          "output_type": "stream",
          "name": "stdout",
          "text": [
            "Your code runs here.\n",
            "Your code here will also run.\n",
            "Your code here will run yet again. What's x + y? Answer: 3\n"
          ]
        }
      ]
    },
    {
      "cell_type": "markdown",
      "source": [
        "## Assignment, Variables, Operators"
      ],
      "metadata": {
        "id": "1fUTSe9fhNw9"
      }
    },
    {
      "cell_type": "code",
      "source": [
        "x = 10\n",
        "print(x)"
      ],
      "metadata": {
        "colab": {
          "base_uri": "https://localhost:8080/"
        },
        "id": "wcT4sN1NaK77",
        "outputId": "ba02426d-a6dd-488a-a735-5f2166ce867c"
      },
      "execution_count": null,
      "outputs": [
        {
          "output_type": "stream",
          "name": "stdout",
          "text": [
            "10\n"
          ]
        }
      ]
    },
    {
      "cell_type": "code",
      "source": [
        "# Reassignment with replacement\n",
        "x = 12\n",
        "print(x)"
      ],
      "metadata": {
        "colab": {
          "base_uri": "https://localhost:8080/"
        },
        "id": "SJNvJlEpaL1S",
        "outputId": "407925ee-f25d-436a-e171-bd88cef0c8bb"
      },
      "execution_count": null,
      "outputs": [
        {
          "output_type": "stream",
          "name": "stdout",
          "text": [
            "12\n"
          ]
        }
      ]
    },
    {
      "cell_type": "code",
      "source": [
        "# Reassignment with increment\n",
        "x = x + 3\n",
        "print(x)"
      ],
      "metadata": {
        "colab": {
          "base_uri": "https://localhost:8080/"
        },
        "id": "zE7A1QraaMqL",
        "outputId": "87890b6f-99cb-441d-b40b-254c43227d7a"
      },
      "execution_count": null,
      "outputs": [
        {
          "output_type": "stream",
          "name": "stdout",
          "text": [
            "15\n"
          ]
        }
      ]
    },
    {
      "cell_type": "code",
      "source": [
        "# Reassignment with increment (a shortcut)\n",
        "x += 3\n",
        "print(x)"
      ],
      "metadata": {
        "colab": {
          "base_uri": "https://localhost:8080/"
        },
        "id": "lYLVTdvJaNdj",
        "outputId": "ec630e01-b722-4e66-b20d-b4dfde468440"
      },
      "execution_count": null,
      "outputs": [
        {
          "output_type": "stream",
          "name": "stdout",
          "text": [
            "18\n"
          ]
        }
      ]
    },
    {
      "cell_type": "code",
      "source": [
        "# Order of precedence\n",
        "7 + 20 / 5"
      ],
      "metadata": {
        "colab": {
          "base_uri": "https://localhost:8080/"
        },
        "id": "UguEGZsraOgE",
        "outputId": "1faa3a9d-9fed-4154-99bf-abd8c6c29aba"
      },
      "execution_count": null,
      "outputs": [
        {
          "output_type": "execute_result",
          "data": {
            "text/plain": [
              "11.0"
            ]
          },
          "metadata": {},
          "execution_count": 5
        }
      ]
    },
    {
      "cell_type": "markdown",
      "source": [
        "### Exercise: Assignment, Variables, Operators"
      ],
      "metadata": {
        "id": "svXCVArohmww"
      }
    },
    {
      "cell_type": "markdown",
      "source": [
        "For each of the following exercises, do it in a single block."
      ],
      "metadata": {
        "id": "o3x0-b45aJqX"
      }
    },
    {
      "cell_type": "markdown",
      "source": [
        "#### Exercise AVO.1\n",
        "1. Create a variable `x` and assign a number `10` to `x`.\n",
        "2. Add `5` to `x`.\n",
        "3. Display the value of `x` with `print`.\n"
      ],
      "metadata": {
        "id": "-5mX25cmiIoU"
      }
    },
    {
      "cell_type": "code",
      "source": [
        "# Your code here\n",
        "x = 10\n",
        "x += 5\n",
        "print(x)"
      ],
      "metadata": {
        "colab": {
          "base_uri": "https://localhost:8080/"
        },
        "id": "QqGphDtViCCJ",
        "outputId": "cd18a1ea-1175-4085-a9bf-9c652822bb9f"
      },
      "execution_count": null,
      "outputs": [
        {
          "output_type": "stream",
          "name": "stdout",
          "text": [
            "15\n"
          ]
        }
      ]
    },
    {
      "cell_type": "markdown",
      "source": [
        "#### Exercise AVO.2\n",
        "1. Reassign variable `x` to have a value of `50/20`.\n",
        "2. Display the value of `x` with `print`. What do you expect to see?"
      ],
      "metadata": {
        "id": "KrE68bZwhqMK"
      }
    },
    {
      "cell_type": "code",
      "source": [
        "# Your code here\n",
        "x = 50/20\n",
        "print(x)"
      ],
      "metadata": {
        "id": "e4q0ARiZE1IJ",
        "colab": {
          "base_uri": "https://localhost:8080/"
        },
        "outputId": "32028875-7a7e-4221-bd8d-551b89753b07"
      },
      "execution_count": null,
      "outputs": [
        {
          "output_type": "stream",
          "name": "stdout",
          "text": [
            "2.5\n"
          ]
        }
      ]
    },
    {
      "cell_type": "markdown",
      "source": [
        "#### Exercise AVO.3\n",
        "1. Reassign variable `x` to have a value of `10`.\n",
        "2. Create a variable `y` and assign a number `-2` to it.\n",
        "3. Calculate and print `x % 3 + y * 2`. What do you expect to see?"
      ],
      "metadata": {
        "id": "MZ4TwyMHimIU"
      }
    },
    {
      "cell_type": "code",
      "source": [
        "# Your code here\n",
        "x = 10\n",
        "y = -2\n",
        "\n",
        "# Mathematical explanation:\n",
        "# x % 3 + y * 2 = (x % 3) + (y * 2)\n",
        "#               = (10 % 3) + (-2 * 2)\n",
        "#               = 1 + (-4)\n",
        "#               = -3\n",
        "\n",
        "print(x % 3 + y * 2)"
      ],
      "metadata": {
        "colab": {
          "base_uri": "https://localhost:8080/"
        },
        "id": "pNCW0t4YUiBT",
        "outputId": "7768e3e6-c74d-4159-c773-6c2728a68fd9"
      },
      "execution_count": null,
      "outputs": [
        {
          "output_type": "stream",
          "name": "stdout",
          "text": [
            "-3\n"
          ]
        }
      ]
    },
    {
      "cell_type": "markdown",
      "source": [
        "#### Exercise 1.4\n",
        "Fix the following code with string concatenation and type casting. Alternatively, use the f-string."
      ],
      "metadata": {
        "id": "yrYdaF8YTMWf"
      }
    },
    {
      "cell_type": "code",
      "source": [
        "date = 8"
      ],
      "metadata": {
        "id": "04nfEWHqfCMO"
      },
      "execution_count": null,
      "outputs": []
    },
    {
      "cell_type": "code",
      "source": [
        "# Uncomment this\n",
        "print(\"Today's date is \" + str(date))"
      ],
      "metadata": {
        "id": "hWpIx1nKTMxD",
        "colab": {
          "base_uri": "https://localhost:8080/"
        },
        "outputId": "033ba91d-b4ec-43c2-89da-880272c47f61"
      },
      "execution_count": null,
      "outputs": [
        {
          "output_type": "stream",
          "name": "stdout",
          "text": [
            "Today's date is 8\n"
          ]
        }
      ]
    },
    {
      "cell_type": "code",
      "source": [
        "# Uncomment this\n",
        "print(f\"Today's date is {date}\")"
      ],
      "metadata": {
        "id": "soDvqAvSe3xP",
        "colab": {
          "base_uri": "https://localhost:8080/"
        },
        "outputId": "e8f336ff-d938-4504-ba9d-3b1533d68687"
      },
      "execution_count": null,
      "outputs": [
        {
          "output_type": "stream",
          "name": "stdout",
          "text": [
            "Today's date is 8\n"
          ]
        }
      ]
    },
    {
      "cell_type": "markdown",
      "source": [
        "## Container Type: List\n",
        "Lists have a dynamic size and elements can be added (appended) to, inserted to, or removed from them. Elements can also be reassigned in place."
      ],
      "metadata": {
        "id": "8RsAU8lRQVGu"
      }
    },
    {
      "cell_type": "code",
      "source": [
        "my_list = [10, 20, 30]\n",
        "print(my_list)"
      ],
      "metadata": {
        "colab": {
          "base_uri": "https://localhost:8080/"
        },
        "id": "QKAfZm-0QzcN",
        "outputId": "793e7633-e917-49be-e6ad-813c02632f7a"
      },
      "execution_count": null,
      "outputs": [
        {
          "output_type": "stream",
          "name": "stdout",
          "text": [
            "[10, 20, 30]\n"
          ]
        }
      ]
    },
    {
      "cell_type": "code",
      "source": [
        "my_list.append(50)\n",
        "print(my_list)"
      ],
      "metadata": {
        "colab": {
          "base_uri": "https://localhost:8080/"
        },
        "id": "mnKGwSbBQ5ag",
        "outputId": "d1f09516-89ee-4b3d-a573-a4f44c1dc600"
      },
      "execution_count": null,
      "outputs": [
        {
          "output_type": "stream",
          "name": "stdout",
          "text": [
            "[10, 20, 30, 50]\n"
          ]
        }
      ]
    },
    {
      "cell_type": "code",
      "source": [
        "# Access: index starts at 0\n",
        "my_list[2]"
      ],
      "metadata": {
        "colab": {
          "base_uri": "https://localhost:8080/"
        },
        "id": "VoI7xouEREHW",
        "outputId": "f58bf2e9-7505-477d-8a48-2ac3aa27287e"
      },
      "execution_count": null,
      "outputs": [
        {
          "output_type": "execute_result",
          "data": {
            "text/plain": [
              "30"
            ]
          },
          "metadata": {},
          "execution_count": 33
        }
      ]
    },
    {
      "cell_type": "code",
      "source": [
        "my_list[1]"
      ],
      "metadata": {
        "colab": {
          "base_uri": "https://localhost:8080/"
        },
        "id": "57an18E9kI35",
        "outputId": "4307f191-89da-45ea-99e1-be9b7409e465"
      },
      "execution_count": null,
      "outputs": [
        {
          "output_type": "execute_result",
          "data": {
            "text/plain": [
              "20"
            ]
          },
          "metadata": {},
          "execution_count": 36
        }
      ]
    },
    {
      "cell_type": "code",
      "source": [
        "my_list[-1]"
      ],
      "metadata": {
        "colab": {
          "base_uri": "https://localhost:8080/"
        },
        "id": "V7rSIvwaRIFz",
        "outputId": "61568417-dba5-4f92-b419-71613dcb751b"
      },
      "execution_count": null,
      "outputs": [
        {
          "output_type": "execute_result",
          "data": {
            "text/plain": [
              "50"
            ]
          },
          "metadata": {},
          "execution_count": 34
        }
      ]
    },
    {
      "cell_type": "code",
      "source": [
        "my_list.insert(2, 70)\n",
        "print(my_list)"
      ],
      "metadata": {
        "colab": {
          "base_uri": "https://localhost:8080/"
        },
        "id": "ogaA0p5sQ8R4",
        "outputId": "ddc1adf8-5ceb-465d-9b53-bb7131346ca8"
      },
      "execution_count": null,
      "outputs": [
        {
          "output_type": "stream",
          "name": "stdout",
          "text": [
            "[10, 20, 70, 30, 50]\n"
          ]
        }
      ]
    },
    {
      "cell_type": "code",
      "source": [
        "my_list.remove(30)\n",
        "print(my_list)"
      ],
      "metadata": {
        "colab": {
          "base_uri": "https://localhost:8080/"
        },
        "id": "ZB7x0omvRQju",
        "outputId": "43275ced-6d3c-4ff6-b6d7-10fefdd84d80"
      },
      "execution_count": null,
      "outputs": [
        {
          "output_type": "stream",
          "name": "stdout",
          "text": [
            "[10, 20, 70, 50]\n"
          ]
        }
      ]
    },
    {
      "cell_type": "code",
      "source": [
        "my_list[2] = 100\n",
        "print(my_list)"
      ],
      "metadata": {
        "colab": {
          "base_uri": "https://localhost:8080/"
        },
        "id": "agekuyfqVOzs",
        "outputId": "3febacb3-107f-4925-b8d5-0e19f2ad5462"
      },
      "execution_count": null,
      "outputs": [
        {
          "output_type": "stream",
          "name": "stdout",
          "text": [
            "[10, 20, 100, 50]\n"
          ]
        }
      ]
    },
    {
      "cell_type": "code",
      "source": [
        "my_list.pop(2)\n",
        "print(my_list)"
      ],
      "metadata": {
        "colab": {
          "base_uri": "https://localhost:8080/"
        },
        "id": "zAnltt0mRUvB",
        "outputId": "0440d40a-99d2-4102-d506-19ce7ddcbc2b"
      },
      "execution_count": null,
      "outputs": [
        {
          "output_type": "stream",
          "name": "stdout",
          "text": [
            "[10, 20, 50]\n"
          ]
        }
      ]
    },
    {
      "cell_type": "code",
      "source": [
        "# What will this produce?\n",
        "# my_list[3]"
      ],
      "metadata": {
        "id": "ekiDbK3vRaf_"
      },
      "execution_count": null,
      "outputs": []
    },
    {
      "cell_type": "code",
      "source": [
        "my_list += [30, 60, 70, 80]\n",
        "print(my_list)"
      ],
      "metadata": {
        "colab": {
          "base_uri": "https://localhost:8080/"
        },
        "id": "UkyJne2WSCXS",
        "outputId": "d93d6d80-2eef-4351-f2f1-54818fab10fb"
      },
      "execution_count": null,
      "outputs": [
        {
          "output_type": "stream",
          "name": "stdout",
          "text": [
            "[10, 20, 50, 30, 60, 70, 80]\n"
          ]
        }
      ]
    },
    {
      "cell_type": "code",
      "source": [
        "# Slicing with \"stop\" index will take the elements up to \"stop - 1\"\n",
        "my_list[1:4]"
      ],
      "metadata": {
        "colab": {
          "base_uri": "https://localhost:8080/"
        },
        "id": "ZQnrzGXkSSUh",
        "outputId": "2546b328-b39f-4fab-984e-563a4bb18f8d"
      },
      "execution_count": null,
      "outputs": [
        {
          "output_type": "execute_result",
          "data": {
            "text/plain": [
              "[20, 50, 30]"
            ]
          },
          "metadata": {},
          "execution_count": 43
        }
      ]
    },
    {
      "cell_type": "code",
      "source": [
        "my_list[1:]"
      ],
      "metadata": {
        "colab": {
          "base_uri": "https://localhost:8080/"
        },
        "id": "ur4UNTEXSV1x",
        "outputId": "043a9579-0f2a-489b-9a47-52d5ba9cfe21"
      },
      "execution_count": null,
      "outputs": [
        {
          "output_type": "execute_result",
          "data": {
            "text/plain": [
              "[20, 50, 30, 60, 70, 80]"
            ]
          },
          "metadata": {},
          "execution_count": 44
        }
      ]
    },
    {
      "cell_type": "code",
      "source": [
        "my_list[1:-1:2]"
      ],
      "metadata": {
        "colab": {
          "base_uri": "https://localhost:8080/"
        },
        "id": "rvaQrTVbSYM8",
        "outputId": "11f77cd9-36c1-4895-a078-1111bdd75dfd"
      },
      "execution_count": null,
      "outputs": [
        {
          "output_type": "execute_result",
          "data": {
            "text/plain": [
              "[20, 30, 70]"
            ]
          },
          "metadata": {},
          "execution_count": 45
        }
      ]
    },
    {
      "cell_type": "code",
      "source": [
        "60 in my_list"
      ],
      "metadata": {
        "colab": {
          "base_uri": "https://localhost:8080/"
        },
        "id": "otK-JEn2Sg6_",
        "outputId": "bf80a7e5-20b2-46dc-ab83-64a9a9cd91da"
      },
      "execution_count": null,
      "outputs": [
        {
          "output_type": "execute_result",
          "data": {
            "text/plain": [
              "True"
            ]
          },
          "metadata": {},
          "execution_count": 46
        }
      ]
    },
    {
      "cell_type": "code",
      "source": [
        "len(my_list)"
      ],
      "metadata": {
        "colab": {
          "base_uri": "https://localhost:8080/"
        },
        "id": "M4MztLgLSjic",
        "outputId": "5e6e27c3-95d2-4476-8ecf-a5caac8ac3ff"
      },
      "execution_count": null,
      "outputs": [
        {
          "output_type": "execute_result",
          "data": {
            "text/plain": [
              "7"
            ]
          },
          "metadata": {},
          "execution_count": 47
        }
      ]
    },
    {
      "cell_type": "code",
      "source": [
        "# Tip: create a list with range\n",
        "my_list = list(range(10)) # n -1\n",
        "print(my_list)"
      ],
      "metadata": {
        "colab": {
          "base_uri": "https://localhost:8080/"
        },
        "id": "j7z82FM_wdhC",
        "outputId": "2ce90032-0caa-4c85-911d-be9bfd779a49"
      },
      "execution_count": null,
      "outputs": [
        {
          "output_type": "stream",
          "name": "stdout",
          "text": [
            "[0, 1, 2, 3, 4, 5, 6, 7, 8, 9]\n"
          ]
        }
      ]
    },
    {
      "cell_type": "code",
      "source": [
        "# range(start, stop, step)\n",
        "my_list = list(range(2,20,3))\n",
        "print(my_list)"
      ],
      "metadata": {
        "colab": {
          "base_uri": "https://localhost:8080/"
        },
        "id": "p9lvz1H8wj9-",
        "outputId": "d27201d0-8e4e-42ed-e14b-fd5be43cd989"
      },
      "execution_count": null,
      "outputs": [
        {
          "output_type": "stream",
          "name": "stdout",
          "text": [
            "[2, 5, 8, 11, 14, 17]\n"
          ]
        }
      ]
    },
    {
      "cell_type": "markdown",
      "source": [
        "### Exercise: Lists\n",
        "Print the list or output every step.\n",
        "1. Create a list `x` with elements `10, 20, 30, 40, 50`\n",
        "2. Check if `35` is an element in the list. Output either `True` or `False`\n",
        "3. Extract another list from `x` with elements `20, 40` using the list access notation `[]`.\n",
        "4. Remove `30` from the list.\n",
        "5. Assign `40` to be `\"N/A\"` instead.\n",
        "6. Remove the last element from the list, without specifying the element to remove (but you can specify the _location_)."
      ],
      "metadata": {
        "id": "czqeGl1bSpQs"
      }
    },
    {
      "cell_type": "code",
      "source": [
        "# Your code here (you may create multiple cells)\n",
        "#x = my_list\n",
        "my_list = [10, 20, 30, 40, 50]\n",
        "x = my_list\n",
        "print(x)"
      ],
      "metadata": {
        "colab": {
          "base_uri": "https://localhost:8080/"
        },
        "id": "fQy7thDhSomG",
        "outputId": "089f6dcd-539e-4077-fcce-388514219c47"
      },
      "execution_count": null,
      "outputs": [
        {
          "output_type": "stream",
          "name": "stdout",
          "text": [
            "[10, 20, 30, 40, 50]\n"
          ]
        }
      ]
    },
    {
      "cell_type": "code",
      "source": [
        "#Check if 35 is an element in the list. Output either True or False\n",
        "35 in x"
      ],
      "metadata": {
        "colab": {
          "base_uri": "https://localhost:8080/"
        },
        "id": "DSB4miL0qOrk",
        "outputId": "22f7391d-00c5-4cd2-d428-28d37d42e531"
      },
      "execution_count": null,
      "outputs": [
        {
          "output_type": "execute_result",
          "data": {
            "text/plain": [
              "False"
            ]
          },
          "metadata": {},
          "execution_count": 64
        }
      ]
    },
    {
      "cell_type": "code",
      "source": [
        "#Extract another list from x with elements 20, 40 using the list access notation [].\n",
        "x [1:4:2]"
      ],
      "metadata": {
        "colab": {
          "base_uri": "https://localhost:8080/"
        },
        "id": "dzwrNrinqaKI",
        "outputId": "0045147f-efdc-42c5-96d4-49e2d83eca2e"
      },
      "execution_count": null,
      "outputs": [
        {
          "output_type": "execute_result",
          "data": {
            "text/plain": [
              "[20, 40]"
            ]
          },
          "metadata": {},
          "execution_count": 65
        }
      ]
    },
    {
      "cell_type": "code",
      "source": [
        "#Remove 30 from the list.\n",
        "x.remove(30)\n",
        "print(x)"
      ],
      "metadata": {
        "colab": {
          "base_uri": "https://localhost:8080/"
        },
        "id": "WhGsTWIQrFrE",
        "outputId": "aba16ade-faae-49da-e16b-cd442b1a7f14"
      },
      "execution_count": null,
      "outputs": [
        {
          "output_type": "stream",
          "name": "stdout",
          "text": [
            "[10, 20, 40, 50]\n"
          ]
        }
      ]
    },
    {
      "cell_type": "code",
      "source": [
        "#Assign 40 to be \"N/A\" instead.\n",
        "x[2] = \"N/A\"\n",
        "print(x)"
      ],
      "metadata": {
        "colab": {
          "base_uri": "https://localhost:8080/"
        },
        "id": "OpkexBTXrtV5",
        "outputId": "6abeccb7-c50e-4662-eb09-a5a5b3950cc2"
      },
      "execution_count": null,
      "outputs": [
        {
          "output_type": "stream",
          "name": "stdout",
          "text": [
            "[10, 20, 'N/A', 50]\n"
          ]
        }
      ]
    },
    {
      "cell_type": "code",
      "source": [
        "#Remove the last element from the list, without specifying the element to remove (but you can specify the location)\n",
        "x = [10, 20, 'N/A', 50]\n",
        "x.pop(-1)"
      ],
      "metadata": {
        "colab": {
          "base_uri": "https://localhost:8080/"
        },
        "id": "6LoxfBINspeU",
        "outputId": "41d83900-0953-41ce-bb1c-70626730c6e7"
      },
      "execution_count": null,
      "outputs": [
        {
          "output_type": "execute_result",
          "data": {
            "text/plain": [
              "50"
            ]
          },
          "metadata": {},
          "execution_count": 69
        }
      ]
    },
    {
      "cell_type": "markdown",
      "source": [
        "## Strings\n",
        "Strings are used to store text. They can be delimited using either single quotes `''` or double quotes `\"\"`. \n",
        "\n",
        "Strings behave similarly to lists. As such we can access individual elements in exactly the same way."
      ],
      "metadata": {
        "id": "8ZjELYDAYvrs"
      }
    },
    {
      "cell_type": "code",
      "source": [
        "# Example: concatenation\n",
        "x = \"Hello \"\n",
        "y = \"World!\"\n",
        "\n",
        "# This works just like lists: you just glue the two \"lists\" together!\n",
        "print(x + y)"
      ],
      "metadata": {
        "colab": {
          "base_uri": "https://localhost:8080/"
        },
        "id": "-AOlet4YwN5E",
        "outputId": "8280cc2d-b610-4817-bd8d-e8e7e36fc5fb"
      },
      "execution_count": null,
      "outputs": [
        {
          "output_type": "stream",
          "name": "stdout",
          "text": [
            "Hello World!\n"
          ]
        }
      ]
    },
    {
      "cell_type": "markdown",
      "source": [
        "### Exercise: Strings\n",
        "Create a string `x` with `\"Hello World!\"`. Then:\n",
        "1. Find out the length of `x` with `len`.\n",
        "2. Check if `\"lo\"` is part of `x`.\n",
        "3. Extract substring `\"ello\"` from `x`\n",
        "4. Extract substring `\"l ol\"` from `x`."
      ],
      "metadata": {
        "id": "7l0RjE44Zm8l"
      }
    },
    {
      "cell_type": "code",
      "source": [
        "# Your code here (you may create multiple cells)\n",
        "c = \"Hello World!\"\n",
        "print(len(x))\n",
        "\n",
        "print(\"lo\" in x)\n",
        "\n",
        "print(x[1:5])\n",
        "\n",
        "print(x[3:6:2] + x[7:10:2])"
      ],
      "metadata": {
        "colab": {
          "base_uri": "https://localhost:8080/"
        },
        "id": "dK1RthprZOaV",
        "outputId": "9f68a15d-68d0-4953-ec8a-11c2bfa69794"
      },
      "execution_count": null,
      "outputs": [
        {
          "output_type": "stream",
          "name": "stdout",
          "text": [
            "12\n",
            "True\n",
            "ello\n",
            "l ol\n"
          ]
        }
      ]
    },
    {
      "cell_type": "code",
      "source": [
        "print(\"12 \\nTrue\\nello\\nl ol\")"
      ],
      "metadata": {
        "colab": {
          "base_uri": "https://localhost:8080/"
        },
        "id": "Z_VFu6NI1KXI",
        "outputId": "2943c36e-f62d-41b2-f258-56946e37395c"
      },
      "execution_count": null,
      "outputs": [
        {
          "output_type": "stream",
          "name": "stdout",
          "text": [
            "12 \n",
            "True\n",
            "ello\n",
            "l ol\n"
          ]
        }
      ]
    },
    {
      "cell_type": "markdown",
      "source": [
        "## Dictionaries\n",
        "Dictionaries can be used as some sort of a lookup table, which is useful in many real-world scenarios. For example, you may want to store sales by region.\n",
        "\n",
        "Dictionaries consist of two parts: \"keys\" and \"values\". If you create a dictionary where you can lookup sales by region, the regions are keys and sales numbers are values."
      ],
      "metadata": {
        "id": "YQ4L839dxUzI"
      }
    },
    {
      "cell_type": "code",
      "source": [
        "sales = {\"North\": 1000,\n",
        "         \"West\": 2000,\n",
        "         \"South\": 2500,\n",
        "         \"East\": 1800}\n",
        "print(sales)"
      ],
      "metadata": {
        "colab": {
          "base_uri": "https://localhost:8080/"
        },
        "id": "5hWnO1G2zGSx",
        "outputId": "79ee6706-16bc-495e-c49a-3aeb6e320b38"
      },
      "execution_count": null,
      "outputs": [
        {
          "output_type": "stream",
          "name": "stdout",
          "text": [
            "{'North': 1000, 'West': 2000, 'South': 2500, 'East': 1800}\n"
          ]
        }
      ]
    },
    {
      "cell_type": "code",
      "source": [
        "# Access\n",
        "sales[\"North\"]"
      ],
      "metadata": {
        "colab": {
          "base_uri": "https://localhost:8080/"
        },
        "id": "NKMejl_1zRn_",
        "outputId": "7e7569ba-a6a6-400f-c537-12a3956fff87"
      },
      "execution_count": null,
      "outputs": [
        {
          "output_type": "execute_result",
          "data": {
            "text/plain": [
              "1000"
            ]
          },
          "metadata": {},
          "execution_count": 3
        }
      ]
    },
    {
      "cell_type": "code",
      "source": [
        "sales.keys()"
      ],
      "metadata": {
        "colab": {
          "base_uri": "https://localhost:8080/"
        },
        "id": "NpaUZJuCzUDj",
        "outputId": "d0e8cc1d-7e26-4586-9929-69add9c2ce20"
      },
      "execution_count": null,
      "outputs": [
        {
          "output_type": "execute_result",
          "data": {
            "text/plain": [
              "dict_keys(['North', 'West', 'South', 'East'])"
            ]
          },
          "metadata": {},
          "execution_count": 6
        }
      ]
    },
    {
      "cell_type": "code",
      "source": [
        "sales.values()"
      ],
      "metadata": {
        "colab": {
          "base_uri": "https://localhost:8080/"
        },
        "id": "lg9X7bd9zVja",
        "outputId": "2c834535-bb7a-4cac-a7cb-87d56f8c0a86"
      },
      "execution_count": null,
      "outputs": [
        {
          "output_type": "execute_result",
          "data": {
            "text/plain": [
              "dict_values([1000, 2000, 2500, 1800])"
            ]
          },
          "metadata": {},
          "execution_count": 38
        }
      ]
    },
    {
      "cell_type": "code",
      "source": [
        "# Iteration\n",
        "for (k, v) in sales.items():\n",
        "  print(\"Sales in \" + k + \" region is \" + str(v))"
      ],
      "metadata": {
        "colab": {
          "base_uri": "https://localhost:8080/"
        },
        "id": "FMY5ELRezW79",
        "outputId": "e44304ee-cf35-40a7-b477-a8366d4dcac3"
      },
      "execution_count": null,
      "outputs": [
        {
          "output_type": "stream",
          "name": "stdout",
          "text": [
            "Sales in North region is 1000\n",
            "Sales in West region is 2000\n",
            "Sales in South region is 2500\n",
            "Sales in East region is 1800\n"
          ]
        }
      ]
    },
    {
      "cell_type": "code",
      "source": [
        "# Assignment / Replacement\n",
        "sales[\"North\"] = 1500\n",
        "sales[\"Central\"] = 2800\n",
        "print(sales)"
      ],
      "metadata": {
        "colab": {
          "base_uri": "https://localhost:8080/"
        },
        "id": "aq0m2z5Gzx8k",
        "outputId": "b14aa7b0-4b0f-41dc-c1a3-a034b340d572"
      },
      "execution_count": null,
      "outputs": [
        {
          "output_type": "stream",
          "name": "stdout",
          "text": [
            "{'North': 1500, 'West': 2000, 'South': 2500, 'East': 1800, 'Central': 2800}\n"
          ]
        }
      ]
    },
    {
      "cell_type": "markdown",
      "source": [
        "### Exercise: Dictionary\n",
        "1. Create a dictionary called `inventory` from the following dataset. Use names as keys.\n",
        "\n",
        "<center>\n",
        "\n",
        "|Name |Quantity|\n",
        "|-----|--------|\n",
        "|Apple|3       |\n",
        "|Egg  |12      |\n",
        "|Orange  |30      |\n",
        "|Bread  |25      |\n",
        "\n",
        "</center>\n",
        "\n",
        "2. What's the quantity of `Egg` in our inventory?\n",
        "3. List all the products we have.\n",
        "4. Increment the quantity of `Orange` by 15.\n",
        "5. Log the new inventory where we have `Jelly` with quantity 22. Print the dict."
      ],
      "metadata": {
        "id": "lD_-XgmKagJf"
      }
    },
    {
      "cell_type": "code",
      "source": [
        "#Create a dictionary called inventory from the following dataset. Use names as keys.\n",
        "data = [\n",
        "    {\"Name\": \"Apple\", \"Quantity\": 3},\n",
        "    {\"Name\": \"Egg\", \"Quantity\": 12},\n",
        "    {\"Name\": \"Orange\", \"Quantity\": 30},\n",
        "    {\"Name\": \"Bread\", \"Quantity\": 25}\n",
        "]\n",
        "\n",
        "inventory = {item[\"Name\"]: item[\"Quantity\"] for item in data}\n",
        "print(inventory)"
      ],
      "metadata": {
        "id": "lpIJAtbAahMg",
        "colab": {
          "base_uri": "https://localhost:8080/"
        },
        "outputId": "3d4c4b2d-d43e-497d-8bb0-fb9a0deca4be"
      },
      "execution_count": null,
      "outputs": [
        {
          "output_type": "stream",
          "name": "stdout",
          "text": [
            "{'Apple': 3, 'Egg': 12, 'Orange': 30, 'Bread': 25}\n"
          ]
        }
      ]
    },
    {
      "cell_type": "code",
      "source": [
        "# What's the quantity of `Egg` in our inventory?\n",
        "egg_quantity = inventory[\"Egg\"]\n",
        "print(egg_quantity)"
      ],
      "metadata": {
        "colab": {
          "base_uri": "https://localhost:8080/"
        },
        "id": "yPFJ6yZL6euU",
        "outputId": "c57bec9c-3c5e-488f-b796-70e0036c3118"
      },
      "execution_count": null,
      "outputs": [
        {
          "output_type": "stream",
          "name": "stdout",
          "text": [
            "12\n"
          ]
        }
      ]
    },
    {
      "cell_type": "code",
      "source": [
        "#List all the products we have.\n",
        "products = list(inventory.keys())\n",
        "print(products)"
      ],
      "metadata": {
        "colab": {
          "base_uri": "https://localhost:8080/"
        },
        "id": "hTd4mZwF6pA6",
        "outputId": "9efc5d5d-dbfb-4d5f-c3f1-e6241bc8cf39"
      },
      "execution_count": null,
      "outputs": [
        {
          "output_type": "stream",
          "name": "stdout",
          "text": [
            "['Apple', 'Egg', 'Orange', 'Bread']\n"
          ]
        }
      ]
    },
    {
      "cell_type": "code",
      "source": [
        "#Increment the quantity of Orange by 15.\n",
        "inventory[\"Orange\"] += 15\n",
        "print(inventory)"
      ],
      "metadata": {
        "colab": {
          "base_uri": "https://localhost:8080/"
        },
        "id": "22BdD3W06wNl",
        "outputId": "d079f88a-3276-4398-e302-5b74a957f552"
      },
      "execution_count": null,
      "outputs": [
        {
          "output_type": "stream",
          "name": "stdout",
          "text": [
            "{'Apple': 3, 'Egg': 12, 'Orange': 45, 'Bread': 25}\n"
          ]
        }
      ]
    },
    {
      "cell_type": "code",
      "source": [
        "#Log the new inventory where we have Jelly with quantity 22. Print the dict.\n",
        "inventory[\"Jelly\"] = 22\n",
        "print(inventory)"
      ],
      "metadata": {
        "colab": {
          "base_uri": "https://localhost:8080/"
        },
        "id": "lDmpr4oZ66ac",
        "outputId": "4f9cd482-d1a6-446c-c1cd-baca89152b74"
      },
      "execution_count": null,
      "outputs": [
        {
          "output_type": "stream",
          "name": "stdout",
          "text": [
            "{'Apple': 3, 'Egg': 12, 'Orange': 45, 'Bread': 25, 'Jelly': 22}\n"
          ]
        }
      ]
    },
    {
      "cell_type": "markdown",
      "source": [
        "## Control Flow\n",
        "You can write code that may execute diffently depending on certain _condition(s)_. Here we discuss boolean data types, boolean operations, and `if` statements."
      ],
      "metadata": {
        "id": "EVOV7pIyKVe2"
      }
    },
    {
      "cell_type": "code",
      "source": [
        "# Assign 10 to x\n",
        "x = 10\n",
        "\n",
        "# Assign 20 to y\n",
        "y = 20"
      ],
      "metadata": {
        "id": "NHpTbADbKuay"
      },
      "execution_count": null,
      "outputs": []
    },
    {
      "cell_type": "code",
      "source": [
        "# Compare if 10 equals x\n",
        "print(x == 10)\n",
        "\n",
        "# Compare if y is greater than 25\n",
        "print(y > 25)"
      ],
      "metadata": {
        "colab": {
          "base_uri": "https://localhost:8080/"
        },
        "id": "wWpzDD8kK28K",
        "outputId": "e86a26f0-8e4b-4553-db78-d4f678a9a72e"
      },
      "execution_count": null,
      "outputs": [
        {
          "output_type": "stream",
          "name": "stdout",
          "text": [
            "True\n",
            "False\n"
          ]
        }
      ]
    },
    {
      "cell_type": "code",
      "source": [
        "# Logical operators & Order of Precedence\n",
        "print(not(x > 10) or (y < 20))\n",
        "print((x == 10) or (y < 25) and (y > 25))\n",
        "print(((x == 10) or (y < 25)) and (y > 25))"
      ],
      "metadata": {
        "colab": {
          "base_uri": "https://localhost:8080/"
        },
        "id": "5XPeHxV-LLm3",
        "outputId": "78b7a2c7-47fe-4bb4-ce0b-2c34664ceeae"
      },
      "execution_count": null,
      "outputs": [
        {
          "output_type": "stream",
          "name": "stdout",
          "text": [
            "True\n",
            "True\n",
            "False\n"
          ]
        }
      ]
    },
    {
      "cell_type": "code",
      "source": [
        "if x > 10:\n",
        "  print(\"The value of x is greater than 10\")\n",
        "else:\n",
        "  print(\"The value of x is less than or equal to 10\")"
      ],
      "metadata": {
        "colab": {
          "base_uri": "https://localhost:8080/"
        },
        "id": "VYoTvVQ-MYh5",
        "outputId": "9c16914a-26b0-46a2-e71f-9ae0eff65f3c"
      },
      "execution_count": null,
      "outputs": [
        {
          "output_type": "stream",
          "name": "stdout",
          "text": [
            "The value of x is less than or equal to 10\n"
          ]
        }
      ]
    },
    {
      "cell_type": "code",
      "source": [
        "if x > 12:\n",
        "  print(\"Great score!\")\n",
        "elif x > 8:\n",
        "  print(\"Good score!\")\n",
        "else:\n",
        "  print(\"Try again!\")"
      ],
      "metadata": {
        "colab": {
          "base_uri": "https://localhost:8080/"
        },
        "id": "GumEIMQIMo_M",
        "outputId": "c51e2964-7143-4d99-89d0-352a41426131"
      },
      "execution_count": null,
      "outputs": [
        {
          "output_type": "stream",
          "name": "stdout",
          "text": [
            "Good score!\n"
          ]
        }
      ]
    },
    {
      "cell_type": "code",
      "source": [
        "tier = \"None\"\n",
        "spending = 700\n",
        "\n",
        "if spending <= 200:\n",
        "  tier = \"Emerald\"\n",
        "elif spending <= 600:\n",
        "  tier = \"Gold\"\n",
        "else:\n",
        "  tier = \"Platinum\"\n",
        "\n",
        "print(\"Your tier:\", tier)"
      ],
      "metadata": {
        "colab": {
          "base_uri": "https://localhost:8080/"
        },
        "id": "26GpjqWMdolR",
        "outputId": "e3920005-550b-4339-c71a-50e8a75ce76c"
      },
      "execution_count": null,
      "outputs": [
        {
          "output_type": "stream",
          "name": "stdout",
          "text": [
            "Your tier: Emerald\n"
          ]
        }
      ]
    },
    {
      "cell_type": "markdown",
      "source": [
        "### Exercise: Control Flow\n",
        "Write a simple program that calculates your salesperson's compensation. Take an input from user's keyboard (hint: use `input()`), convert that input to an integer `x`. This is your salesperson's total sales this month. \n",
        "\n",
        "- If `x` is greater than `15000`, display `\"Your compensation this month is \"` followed by 10% of `x`. \n",
        "- If `x` is between `5000` and `15000` inclusive, display `\"Your compensation this month is \"` followed by 5% of `x`.\n",
        "- Otherwise, display `\"Your compensation this month is 250\"`.\n"
      ],
      "metadata": {
        "id": "QVelnq7LM-Ej"
      }
    },
    {
      "cell_type": "code",
      "source": [
        "#If x is greater than 15000, display \"Your compensation this month is \" followed by 10% of x.\n",
        "# Your code here\n",
        "x = int(input(\"Enter your total sales this month: \"))\n",
        "\n",
        "if x > 15000:\n",
        "    compensation = 0.1 * x\n",
        "    print(\"Your compensation this month is\", compensation)"
      ],
      "metadata": {
        "colab": {
          "base_uri": "https://localhost:8080/"
        },
        "id": "lS7OSMLINydQ",
        "outputId": "68dcf0d6-ec52-473f-83a3-4a0c7c94d05c"
      },
      "execution_count": null,
      "outputs": [
        {
          "output_type": "stream",
          "name": "stdout",
          "text": [
            "Enter your total sales this month: 20000\n",
            "Your compensation this month is 2000.0\n"
          ]
        }
      ]
    },
    {
      "cell_type": "code",
      "source": [
        "#If x is between 5000 and 15000 inclusive, display \"Your compensation this month is \" followed by 5% of x.\n",
        "# Your code here\n",
        "x = int(input(\"Enter your total sales this month: \"))\n",
        "\n",
        "if 5000 <= x <= 15000:\n",
        "    compensation = 0.05 * x\n",
        "    print(\"Your compensation this month is\", compensation)"
      ],
      "metadata": {
        "colab": {
          "base_uri": "https://localhost:8080/"
        },
        "id": "W8bkwyANYU6J",
        "outputId": "5442234d-c714-4b5f-bc69-7f4ecaa98df0"
      },
      "execution_count": null,
      "outputs": [
        {
          "output_type": "stream",
          "name": "stdout",
          "text": [
            "Enter your total sales this month: 6000\n",
            "Your compensation this month is 300.0\n"
          ]
        }
      ]
    },
    {
      "cell_type": "code",
      "source": [
        "#Otherwise, display \"Your compensation this month is 250\".\n",
        "# Your code here\n",
        "x = int(input(\"Enter your total sales this month: \"))\n",
        "\n",
        "if 5000 <= x <= 15000:\n",
        "    compensation = 0.05 * x\n",
        "    print(\"Your compensation this month is\", compensation)\n",
        "else:\n",
        "    print(\"Your compensation this month is 250\")\n"
      ],
      "metadata": {
        "colab": {
          "base_uri": "https://localhost:8080/"
        },
        "id": "Pr8tJJ3eYzCI",
        "outputId": "000ea9af-0783-4003-8534-8cf7fac7e24d"
      },
      "execution_count": null,
      "outputs": [
        {
          "output_type": "stream",
          "name": "stdout",
          "text": [
            "Enter your total sales this month: 2222\n",
            "Your compensation this month is 250\n"
          ]
        }
      ]
    },
    {
      "cell_type": "code",
      "source": [
        "x = int(input(\"Enter your total sales this month: \"))\n",
        "\n",
        "if x > 15000:\n",
        "    #compensation = 0.1 * x\n",
        "    print(\"Your compensation this month is 10% : \"+str(x*0.5))\n",
        "elif 5000 <= x <= 15000:\n",
        "    compensation = 0.05 * x\n",
        "    print(\"Your compensation this month is 5% :\", compensation)\n",
        "else:\n",
        "    print(\"Your compensation this month is 250 :\")"
      ],
      "metadata": {
        "colab": {
          "base_uri": "https://localhost:8080/"
        },
        "id": "M_szstc8dZ9Y",
        "outputId": "9870cc69-bd42-4dea-d161-88e9522c8b57"
      },
      "execution_count": null,
      "outputs": [
        {
          "output_type": "stream",
          "name": "stdout",
          "text": [
            "Enter your total sales this month: 150111\n",
            "Your compensation this month is 10% : 75055.5\n"
          ]
        }
      ]
    },
    {
      "cell_type": "markdown",
      "source": [
        "## Loops\n",
        "You can write code that performs repetitive tasks without having to write the same code many times."
      ],
      "metadata": {
        "id": "PRVsYXHxSjwv"
      }
    },
    {
      "cell_type": "code",
      "source": [
        "x = \"Hello World!\"\n",
        "for character in x:\n",
        "  print(character)"
      ],
      "metadata": {
        "colab": {
          "base_uri": "https://localhost:8080/"
        },
        "id": "mJHQ1G7JSx3R",
        "outputId": "1b1f790a-87ae-4c86-8b8d-ecd39e4c11ec"
      },
      "execution_count": null,
      "outputs": [
        {
          "output_type": "stream",
          "name": "stdout",
          "text": [
            "H\n",
            "e\n",
            "l\n",
            "l\n",
            "o\n",
            " \n",
            "W\n",
            "o\n",
            "r\n",
            "l\n",
            "d\n",
            "!\n"
          ]
        }
      ]
    },
    {
      "cell_type": "code",
      "source": [
        "for number in [0, 1, 2, 3, 4]:\n",
        "  print(number)"
      ],
      "metadata": {
        "colab": {
          "base_uri": "https://localhost:8080/"
        },
        "id": "rZ-CgcovS9zy",
        "outputId": "15917c5d-0a69-4fb2-f0ff-eed06c444ce9"
      },
      "execution_count": null,
      "outputs": [
        {
          "output_type": "stream",
          "name": "stdout",
          "text": [
            "0\n",
            "1\n",
            "2\n",
            "3\n",
            "4\n"
          ]
        }
      ]
    },
    {
      "cell_type": "code",
      "source": [
        "for number in range(10):\n",
        "  print(number)"
      ],
      "metadata": {
        "colab": {
          "base_uri": "https://localhost:8080/"
        },
        "id": "fek7kUXMS4yl",
        "outputId": "39b1dc03-7966-4591-e310-6eb4a15a667f"
      },
      "execution_count": null,
      "outputs": [
        {
          "output_type": "stream",
          "name": "stdout",
          "text": [
            "0\n",
            "1\n",
            "2\n",
            "3\n",
            "4\n",
            "5\n",
            "6\n",
            "7\n",
            "8\n",
            "9\n"
          ]
        }
      ]
    },
    {
      "cell_type": "code",
      "source": [
        "# Iterate over each element in a list, using indices\n",
        "index = 0\n",
        "numbers = list(range(10))\n",
        "while (index < len(numbers)):\n",
        "  print(numbers[index])\n",
        "  index += 1"
      ],
      "metadata": {
        "colab": {
          "base_uri": "https://localhost:8080/"
        },
        "id": "dwVKQ5G3TBWB",
        "outputId": "c7575539-681e-4eee-c443-b34829f03d73"
      },
      "execution_count": null,
      "outputs": [
        {
          "output_type": "stream",
          "name": "stdout",
          "text": [
            "0\n",
            "1\n",
            "2\n",
            "3\n",
            "4\n",
            "5\n",
            "6\n",
            "7\n",
            "8\n",
            "9\n"
          ]
        }
      ]
    },
    {
      "cell_type": "code",
      "source": [
        "# Dictionary iteration, revisited\n",
        "for (k, v) in sales.items():\n",
        "  print(\"Sales in \" + k + \" region is \" + str(v))\n"
      ],
      "metadata": {
        "colab": {
          "base_uri": "https://localhost:8080/"
        },
        "id": "7zxAGd8rTpxr",
        "outputId": "3af1fb86-e53a-4d7b-ddd2-e218c7cf45f0"
      },
      "execution_count": null,
      "outputs": [
        {
          "output_type": "stream",
          "name": "stdout",
          "text": [
            "Sales in North region is 1500\n",
            "Sales in West region is 2000\n",
            "Sales in South region is 2500\n",
            "Sales in East region is 1800\n",
            "Sales in Central region is 2800\n"
          ]
        }
      ]
    },
    {
      "cell_type": "markdown",
      "source": [
        "### Exercises: Loops\n",
        "#### Exercise LOOP.1\n",
        "Calculate the sum of numbers 1, 2, ..., 1000.\n",
        "\n",
        "#### Exercise LOOP.2\n",
        "Calculate the sum of odd numbers from 1, 2, ..., 1000\n",
        "\n",
        "#### Exercise LOOP.3\n",
        "Given the `sales` dictionary defined above, calculate total sales from all regions.\n",
        "\n"
      ],
      "metadata": {
        "id": "0VC394KkT-Ar"
      }
    },
    {
      "cell_type": "code",
      "source": [
        "#Exercise LOOP.1\n",
        "#Calculate the sum of numbers 1, 2, ..., 1000.\n",
        "# Your code here\n",
        "sum = 0\n",
        "for i in range(1001):\n",
        "    sum += i\n",
        "print(sum,i)"
      ],
      "metadata": {
        "id": "Jpwic79JUo1k",
        "colab": {
          "base_uri": "https://localhost:8080/"
        },
        "outputId": "ebd1a14a-36a2-468f-cf58-f749a977b192"
      },
      "execution_count": null,
      "outputs": [
        {
          "output_type": "stream",
          "name": "stdout",
          "text": [
            "500500 1000\n"
          ]
        }
      ]
    },
    {
      "cell_type": "code",
      "source": [
        "sum = 0 \n",
        "number = 1\n",
        "while number <=1000:\n",
        "  sum += number\n",
        "  number += 1\n",
        "print(sum)"
      ],
      "metadata": {
        "colab": {
          "base_uri": "https://localhost:8080/"
        },
        "id": "enESU1_auZEG",
        "outputId": "7a0493d6-7d90-496c-8d86-5d6636682672"
      },
      "execution_count": null,
      "outputs": [
        {
          "output_type": "stream",
          "name": "stdout",
          "text": [
            "500500\n"
          ]
        }
      ]
    },
    {
      "cell_type": "code",
      "source": [
        "#Exercise LOOP.2\n",
        "#Calculate the sum of odd numbers from 1, 2, ..., 1000\n",
        "# Your code here\n",
        "sum = 0\n",
        "for i in range(1,1001, 2):\n",
        "    sum += i\n",
        "print(sum,i)"
      ],
      "metadata": {
        "id": "-pXDp-v4U3Sp",
        "colab": {
          "base_uri": "https://localhost:8080/"
        },
        "outputId": "37533a0f-525e-4ac6-90d2-ee441af887ad"
      },
      "execution_count": null,
      "outputs": [
        {
          "output_type": "stream",
          "name": "stdout",
          "text": [
            "250000 999\n"
          ]
        }
      ]
    },
    {
      "cell_type": "code",
      "source": [
        "sum = 0\n",
        "for i in range(1001):\n",
        "  if i % 2 == 1:\n",
        "    sum += i\n",
        "print(sum,i)"
      ],
      "metadata": {
        "colab": {
          "base_uri": "https://localhost:8080/"
        },
        "id": "Rq1Di2jfvEaO",
        "outputId": "1bfa1ac1-0b5d-4041-b761-a49c25e9ef5d"
      },
      "execution_count": null,
      "outputs": [
        {
          "output_type": "stream",
          "name": "stdout",
          "text": [
            "250000 1000\n"
          ]
        }
      ]
    },
    {
      "cell_type": "code",
      "source": [
        "sum = 0 \n",
        "number = 1\n",
        "while number <=999:\n",
        "  sum += number\n",
        "  number += 2\n",
        "print(sum , number)"
      ],
      "metadata": {
        "colab": {
          "base_uri": "https://localhost:8080/"
        },
        "id": "rBLAz6x5vU-F",
        "outputId": "d53f731c-cadf-4509-d9ed-7756eb758509"
      },
      "execution_count": null,
      "outputs": [
        {
          "output_type": "stream",
          "name": "stdout",
          "text": [
            "250000 1001\n"
          ]
        }
      ]
    },
    {
      "cell_type": "code",
      "source": [
        "#Exercise LOOP.3\n",
        "#Given the sales dictionary defined above, calculate total sales from all regions.\n",
        "# Your code here\n",
        "#sales = {\"North\": 1000,\n",
        "#         \"West\": 2000,\n",
        "#         \"South\": 2500,\n",
        "#         \"East\": 1800}\n",
        "\n",
        "sum = 0\n",
        "for i in sales.values():\n",
        "  sum = sum + i\n",
        "\n",
        "print(\"Given the sales dictionary defined above, calculate total sales from all regions : \",sum)"
      ],
      "metadata": {
        "id": "gpGlBFqWU-_3",
        "colab": {
          "base_uri": "https://localhost:8080/"
        },
        "outputId": "3aa85296-9f3f-4ece-8258-ad55f1eca84c"
      },
      "execution_count": null,
      "outputs": [
        {
          "output_type": "stream",
          "name": "stdout",
          "text": [
            "Given the sales dictionary defined above, calculate total sales from all regions :  7300\n"
          ]
        }
      ]
    },
    {
      "cell_type": "markdown",
      "source": [
        "## Functions\n",
        "To improve code readability, it is common to separate the code into different blocks, responsible for performing precise actions: functions. \n",
        "\n",
        "A function takes some inputs and process them to return some outputs."
      ],
      "metadata": {
        "id": "BcyCF6q2lQWK"
      }
    },
    {
      "cell_type": "code",
      "source": [
        "# A simple function that can be reused\n",
        "def square(x):\n",
        "  \"\"\"Returns the squared input.\"\"\"\n",
        "  return x * x\n",
        "\n",
        "# A function can call another function\n",
        "# docsting \n",
        "def sum_squared(numbers):\n",
        "  \"\"\"Returns the sum of squared elements in input.\n",
        "  \n",
        "  Parameters\n",
        "  ----------\n",
        "  numbers: list\n",
        "    a list of numbers\n",
        "  \"\"\"\n",
        "  sum = 0\n",
        "  for number in numbers:\n",
        "    sum += square(number)\n",
        "  return sum"
      ],
      "metadata": {
        "id": "hSF4wjntXLsn"
      },
      "execution_count": null,
      "outputs": []
    },
    {
      "cell_type": "code",
      "source": [
        "result = square(10)\n",
        "print(result)"
      ],
      "metadata": {
        "colab": {
          "base_uri": "https://localhost:8080/"
        },
        "id": "DOs95VQ5x6rN",
        "outputId": "d128148f-ed82-427c-8e4a-62e619210daf"
      },
      "execution_count": null,
      "outputs": [
        {
          "output_type": "stream",
          "name": "stdout",
          "text": [
            "100\n"
          ]
        }
      ]
    },
    {
      "cell_type": "code",
      "source": [
        "#[2, -1, 4]\n",
        "# (2*2 , (-1)*(-1) , 4*4)"
      ],
      "metadata": {
        "id": "lACDJTHlyGu8"
      },
      "execution_count": null,
      "outputs": []
    },
    {
      "cell_type": "code",
      "source": [
        "# Expect to see 21\n",
        "samples = [2, -1, 4]\n",
        "sum_squared(samples)"
      ],
      "metadata": {
        "colab": {
          "base_uri": "https://localhost:8080/"
        },
        "id": "tZZ7yt4TXry_",
        "outputId": "bb651897-3c30-4ded-e9ad-f5ca62e60b2f"
      },
      "execution_count": null,
      "outputs": [
        {
          "output_type": "execute_result",
          "data": {
            "text/plain": [
              "21"
            ]
          },
          "metadata": {},
          "execution_count": 70
        }
      ]
    },
    {
      "cell_type": "markdown",
      "source": [
        "### Exercises: Functions"
      ],
      "metadata": {
        "id": "O2Sp6uO3YMrD"
      }
    },
    {
      "cell_type": "markdown",
      "source": [
        "#### Exercise FUNC.1\n",
        "Write the [relu](https://en.wikipedia.org/wiki/Rectifier_(neural_networks)) function defined as follows:\n",
        "\n",
        "$\\text{relu}(x) = \\left\\{\n",
        "   \\begin{array}{rl}\n",
        "     x, & \\text{if }  x \\ge 0 \\\\\n",
        "     0, & \\text{otherwise }.\n",
        "   \\end{array}\\right.$"
      ],
      "metadata": {
        "id": "_h5uhAOCYPtw"
      }
    },
    {
      "cell_type": "code",
      "source": [
        " def relu(x):\n",
        "  return x if x >= 0 else 0"
      ],
      "metadata": {
        "id": "dvWqPJxcYWOM"
      },
      "execution_count": null,
      "outputs": []
    },
    {
      "cell_type": "code",
      "source": [
        "# What do you expect to see?\n",
        "print(relu(-3))\n",
        "\n",
        "# What do you expect to see?\n",
        "print(relu(3))"
      ],
      "metadata": {
        "colab": {
          "base_uri": "https://localhost:8080/"
        },
        "id": "Fe1ZugLkYbns",
        "outputId": "af8be759-8ec0-42d2-9fa3-850055b446bd"
      },
      "execution_count": null,
      "outputs": [
        {
          "output_type": "stream",
          "name": "stdout",
          "text": [
            "0\n",
            "3\n"
          ]
        }
      ]
    },
    {
      "cell_type": "markdown",
      "source": [
        "#### Exercise FUNC.2\n",
        "Using a for loop, write a function that computes the [L1 norm](https://mathworld.wolfram.com/L1-Norm.html) of a vector, represented as a list.\n",
        "\n",
        "Hint: `import math` and you can use `math.sqrt()`"
      ],
      "metadata": {
        "id": "te8EZVsbYjrv"
      }
    },
    {
      "cell_type": "code",
      "source": [
        "import math\n",
        "\n",
        "def l1_norm(vector):\n",
        "  sum = 0\n",
        "  for number in vector:\n",
        "    sum += abs(number)\n",
        "  return sum"
      ],
      "metadata": {
        "id": "ZtYX9GFrYvvk"
      },
      "execution_count": null,
      "outputs": []
    },
    {
      "cell_type": "code",
      "source": [
        "my_vector = [0.5, -1.2, 3.3, 4.5]\n",
        "\n",
        "# The result should be 9.5\n",
        "l1_norm(my_vector)"
      ],
      "metadata": {
        "colab": {
          "base_uri": "https://localhost:8080/"
        },
        "id": "ywqGvJ-lYyTp",
        "outputId": "ec384dc3-808f-49fd-f2e2-c820e35ceac7"
      },
      "execution_count": null,
      "outputs": [
        {
          "output_type": "execute_result",
          "data": {
            "text/plain": [
              "9.5"
            ]
          },
          "metadata": {},
          "execution_count": 114
        }
      ]
    },
    {
      "cell_type": "markdown",
      "source": [
        "#### Exercise FUNC.3 \n",
        "Using a for loop and a conditional, write a function that returns the maximum value in a vector. You may assume that the given vector always has at least 1 element."
      ],
      "metadata": {
        "id": "9CvnPRZPaLHG"
      }
    },
    {
      "cell_type": "code",
      "source": [
        "def max_maximun(vector):\n",
        "  max_maximun = vector[0]\n",
        "  for i in vector:\n",
        "    if i > max_maximun:\n",
        "      max_maximun = i\n",
        "  return max_maximun"
      ],
      "metadata": {
        "id": "pwNvg7-oaJ2f"
      },
      "execution_count": null,
      "outputs": []
    },
    {
      "cell_type": "markdown",
      "source": [],
      "metadata": {
        "id": "DUM_FknZSzAz"
      }
    },
    {
      "cell_type": "code",
      "source": [
        "my_vector = [0.5, -1.2, 3.3, 4.5]\n",
        "print(max_maximun(my_vector))\n",
        "\n",
        "my_vector = [-3.5]\n",
        "print(max_maximun(my_vector))\n",
        "\n",
        "my_vector = [-3.5, 2, -1.2, -10, 1]\n",
        "print(max_maximun(my_vector))"
      ],
      "metadata": {
        "colab": {
          "base_uri": "https://localhost:8080/"
        },
        "id": "uaZ2ztu5aku2",
        "outputId": "6baeef7a-773a-4fda-e045-35f5587aee9a"
      },
      "execution_count": null,
      "outputs": [
        {
          "output_type": "stream",
          "name": "stdout",
          "text": [
            "4.5\n",
            "-3.5\n",
            "2\n"
          ]
        }
      ]
    },
    {
      "cell_type": "code",
      "source": [
        "def max_value(vector):\n",
        "  # Your code here\n",
        "  #check = \"\"\n",
        "  for cal in vector:\n",
        "    cal = max(vector)\n",
        "  return cal"
      ],
      "metadata": {
        "id": "TRaXufaPS9T7"
      },
      "execution_count": null,
      "outputs": []
    },
    {
      "cell_type": "code",
      "source": [
        "my_vector = [0.5, -1.2, 3.3, 4.5]\n",
        "print(max_value(my_vector))\n",
        "\n",
        "my_vector = [-3.5]\n",
        "print(max_value(my_vector))\n",
        "\n",
        "my_vector = [-3.5, 2, -1.2, -10, 1]\n",
        "print(max_value(my_vector))"
      ],
      "metadata": {
        "colab": {
          "base_uri": "https://localhost:8080/"
        },
        "id": "S9qLjN2sS-ZY",
        "outputId": "f335134a-48fd-4963-9e96-c328d1c4fd39"
      },
      "execution_count": null,
      "outputs": [
        {
          "output_type": "stream",
          "name": "stdout",
          "text": [
            "4.5\n",
            "-3.5\n",
            "2\n"
          ]
        }
      ]
    },
    {
      "cell_type": "markdown",
      "source": [
        "#### Exercise FUNC.4\n",
        "Write a function that generates a multiplication table given a number as the input. Generate multiplications using multipliers from 1, 2, ..., 12.\n",
        "\n",
        "Note that this function does not need to `return` anything. It only needs to print some output.\n",
        "\n",
        "For example, `multiplication_table(5)` should display the following text:\n",
        "\n",
        "5 x 1 = 5\n",
        "\n",
        "5 x 2 = 10\n",
        "\n",
        "5 x 3 = 15\n",
        "\n",
        "5 x 4 = 20\n",
        "\n",
        "5 x 5 = 25\n",
        "\n",
        "5 x 6 = 30\n",
        "\n",
        "5 x 7 = 35\n",
        "\n",
        "5 x 8 = 40\n",
        "\n",
        "5 x 9 = 45\n",
        "\n",
        "5 x 10 = 50\n",
        "\n",
        "5 x 11 = 55\n",
        "\n",
        "5 x 12 = 60\n",
        "\n",
        "**Extra credit**: accept an additional parameter `max_multiplier` (default = 12), then generate the multiplication table from 1 up to `max_multiplier`."
      ],
      "metadata": {
        "id": "LNVnEBkObj1C"
      }
    },
    {
      "cell_type": "code",
      "source": [
        "def multiplication_table(number, max_multiplier = 12):\n",
        "  # Your code here\n",
        "  i = 1\n",
        "  while i < max_multiplier + 1:\n",
        "    print(str(number) + \" x \" + str(i) + \" = \" + str(number * i))\n",
        "    i += 1\n"
      ],
      "metadata": {
        "id": "dlpnUNz9btCd"
      },
      "execution_count": null,
      "outputs": []
    },
    {
      "cell_type": "code",
      "source": [
        "multiplication_table(5)"
      ],
      "metadata": {
        "colab": {
          "base_uri": "https://localhost:8080/"
        },
        "id": "sarCIwTCcKx6",
        "outputId": "ad00ce0a-b3f7-4a3c-8715-20210b485980"
      },
      "execution_count": null,
      "outputs": [
        {
          "output_type": "stream",
          "name": "stdout",
          "text": [
            "5 x 1 = 5\n",
            "5 x 2 = 10\n",
            "5 x 3 = 15\n",
            "5 x 4 = 20\n",
            "5 x 5 = 25\n",
            "5 x 6 = 30\n",
            "5 x 7 = 35\n",
            "5 x 8 = 40\n",
            "5 x 9 = 45\n",
            "5 x 10 = 50\n",
            "5 x 11 = 55\n",
            "5 x 12 = 60\n"
          ]
        }
      ]
    },
    {
      "cell_type": "markdown",
      "source": [
        "## Extra Challenge"
      ],
      "metadata": {
        "id": "Bo7sH5fXhmPW"
      }
    },
    {
      "cell_type": "code",
      "source": [
        "import requests\n",
        "r = requests.get('https://jsonplaceholder.typicode.com/posts') #JSON API\n",
        "data = r.json()"
      ],
      "metadata": {
        "id": "1arkCzfcCzCF"
      },
      "execution_count": 3,
      "outputs": []
    },
    {
      "cell_type": "code",
      "source": [
        "data"
      ],
      "metadata": {
        "id": "LgU3gqAmCzJe",
        "colab": {
          "base_uri": "https://localhost:8080/"
        },
        "outputId": "719d59dc-8cf6-4649-feba-9e586db7f314"
      },
      "execution_count": 4,
      "outputs": [
        {
          "output_type": "execute_result",
          "data": {
            "text/plain": [
              "[{'userId': 1,\n",
              "  'id': 1,\n",
              "  'title': 'sunt aut facere repellat provident occaecati excepturi optio reprehenderit',\n",
              "  'body': 'quia et suscipit\\nsuscipit recusandae consequuntur expedita et cum\\nreprehenderit molestiae ut ut quas totam\\nnostrum rerum est autem sunt rem eveniet architecto'},\n",
              " {'userId': 1,\n",
              "  'id': 2,\n",
              "  'title': 'qui est esse',\n",
              "  'body': 'est rerum tempore vitae\\nsequi sint nihil reprehenderit dolor beatae ea dolores neque\\nfugiat blanditiis voluptate porro vel nihil molestiae ut reiciendis\\nqui aperiam non debitis possimus qui neque nisi nulla'},\n",
              " {'userId': 1,\n",
              "  'id': 3,\n",
              "  'title': 'ea molestias quasi exercitationem repellat qui ipsa sit aut',\n",
              "  'body': 'et iusto sed quo iure\\nvoluptatem occaecati omnis eligendi aut ad\\nvoluptatem doloribus vel accusantium quis pariatur\\nmolestiae porro eius odio et labore et velit aut'},\n",
              " {'userId': 1,\n",
              "  'id': 4,\n",
              "  'title': 'eum et est occaecati',\n",
              "  'body': 'ullam et saepe reiciendis voluptatem adipisci\\nsit amet autem assumenda provident rerum culpa\\nquis hic commodi nesciunt rem tenetur doloremque ipsam iure\\nquis sunt voluptatem rerum illo velit'},\n",
              " {'userId': 1,\n",
              "  'id': 5,\n",
              "  'title': 'nesciunt quas odio',\n",
              "  'body': 'repudiandae veniam quaerat sunt sed\\nalias aut fugiat sit autem sed est\\nvoluptatem omnis possimus esse voluptatibus quis\\nest aut tenetur dolor neque'},\n",
              " {'userId': 1,\n",
              "  'id': 6,\n",
              "  'title': 'dolorem eum magni eos aperiam quia',\n",
              "  'body': 'ut aspernatur corporis harum nihil quis provident sequi\\nmollitia nobis aliquid molestiae\\nperspiciatis et ea nemo ab reprehenderit accusantium quas\\nvoluptate dolores velit et doloremque molestiae'},\n",
              " {'userId': 1,\n",
              "  'id': 7,\n",
              "  'title': 'magnam facilis autem',\n",
              "  'body': 'dolore placeat quibusdam ea quo vitae\\nmagni quis enim qui quis quo nemo aut saepe\\nquidem repellat excepturi ut quia\\nsunt ut sequi eos ea sed quas'},\n",
              " {'userId': 1,\n",
              "  'id': 8,\n",
              "  'title': 'dolorem dolore est ipsam',\n",
              "  'body': 'dignissimos aperiam dolorem qui eum\\nfacilis quibusdam animi sint suscipit qui sint possimus cum\\nquaerat magni maiores excepturi\\nipsam ut commodi dolor voluptatum modi aut vitae'},\n",
              " {'userId': 1,\n",
              "  'id': 9,\n",
              "  'title': 'nesciunt iure omnis dolorem tempora et accusantium',\n",
              "  'body': 'consectetur animi nesciunt iure dolore\\nenim quia ad\\nveniam autem ut quam aut nobis\\net est aut quod aut provident voluptas autem voluptas'},\n",
              " {'userId': 1,\n",
              "  'id': 10,\n",
              "  'title': 'optio molestias id quia eum',\n",
              "  'body': 'quo et expedita modi cum officia vel magni\\ndoloribus qui repudiandae\\nvero nisi sit\\nquos veniam quod sed accusamus veritatis error'},\n",
              " {'userId': 2,\n",
              "  'id': 11,\n",
              "  'title': 'et ea vero quia laudantium autem',\n",
              "  'body': 'delectus reiciendis molestiae occaecati non minima eveniet qui voluptatibus\\naccusamus in eum beatae sit\\nvel qui neque voluptates ut commodi qui incidunt\\nut animi commodi'},\n",
              " {'userId': 2,\n",
              "  'id': 12,\n",
              "  'title': 'in quibusdam tempore odit est dolorem',\n",
              "  'body': 'itaque id aut magnam\\npraesentium quia et ea odit et ea voluptas et\\nsapiente quia nihil amet occaecati quia id voluptatem\\nincidunt ea est distinctio odio'},\n",
              " {'userId': 2,\n",
              "  'id': 13,\n",
              "  'title': 'dolorum ut in voluptas mollitia et saepe quo animi',\n",
              "  'body': 'aut dicta possimus sint mollitia voluptas commodi quo doloremque\\niste corrupti reiciendis voluptatem eius rerum\\nsit cumque quod eligendi laborum minima\\nperferendis recusandae assumenda consectetur porro architecto ipsum ipsam'},\n",
              " {'userId': 2,\n",
              "  'id': 14,\n",
              "  'title': 'voluptatem eligendi optio',\n",
              "  'body': 'fuga et accusamus dolorum perferendis illo voluptas\\nnon doloremque neque facere\\nad qui dolorum molestiae beatae\\nsed aut voluptas totam sit illum'},\n",
              " {'userId': 2,\n",
              "  'id': 15,\n",
              "  'title': 'eveniet quod temporibus',\n",
              "  'body': 'reprehenderit quos placeat\\nvelit minima officia dolores impedit repudiandae molestiae nam\\nvoluptas recusandae quis delectus\\nofficiis harum fugiat vitae'},\n",
              " {'userId': 2,\n",
              "  'id': 16,\n",
              "  'title': 'sint suscipit perspiciatis velit dolorum rerum ipsa laboriosam odio',\n",
              "  'body': 'suscipit nam nisi quo aperiam aut\\nasperiores eos fugit maiores voluptatibus quia\\nvoluptatem quis ullam qui in alias quia est\\nconsequatur magni mollitia accusamus ea nisi voluptate dicta'},\n",
              " {'userId': 2,\n",
              "  'id': 17,\n",
              "  'title': 'fugit voluptas sed molestias voluptatem provident',\n",
              "  'body': 'eos voluptas et aut odit natus earum\\naspernatur fuga molestiae ullam\\ndeserunt ratione qui eos\\nqui nihil ratione nemo velit ut aut id quo'},\n",
              " {'userId': 2,\n",
              "  'id': 18,\n",
              "  'title': 'voluptate et itaque vero tempora molestiae',\n",
              "  'body': 'eveniet quo quis\\nlaborum totam consequatur non dolor\\nut et est repudiandae\\nest voluptatem vel debitis et magnam'},\n",
              " {'userId': 2,\n",
              "  'id': 19,\n",
              "  'title': 'adipisci placeat illum aut reiciendis qui',\n",
              "  'body': 'illum quis cupiditate provident sit magnam\\nea sed aut omnis\\nveniam maiores ullam consequatur atque\\nadipisci quo iste expedita sit quos voluptas'},\n",
              " {'userId': 2,\n",
              "  'id': 20,\n",
              "  'title': 'doloribus ad provident suscipit at',\n",
              "  'body': 'qui consequuntur ducimus possimus quisquam amet similique\\nsuscipit porro ipsam amet\\neos veritatis officiis exercitationem vel fugit aut necessitatibus totam\\nomnis rerum consequatur expedita quidem cumque explicabo'},\n",
              " {'userId': 3,\n",
              "  'id': 21,\n",
              "  'title': 'asperiores ea ipsam voluptatibus modi minima quia sint',\n",
              "  'body': 'repellat aliquid praesentium dolorem quo\\nsed totam minus non itaque\\nnihil labore molestiae sunt dolor eveniet hic recusandae veniam\\ntempora et tenetur expedita sunt'},\n",
              " {'userId': 3,\n",
              "  'id': 22,\n",
              "  'title': 'dolor sint quo a velit explicabo quia nam',\n",
              "  'body': 'eos qui et ipsum ipsam suscipit aut\\nsed omnis non odio\\nexpedita earum mollitia molestiae aut atque rem suscipit\\nnam impedit esse'},\n",
              " {'userId': 3,\n",
              "  'id': 23,\n",
              "  'title': 'maxime id vitae nihil numquam',\n",
              "  'body': 'veritatis unde neque eligendi\\nquae quod architecto quo neque vitae\\nest illo sit tempora doloremque fugit quod\\net et vel beatae sequi ullam sed tenetur perspiciatis'},\n",
              " {'userId': 3,\n",
              "  'id': 24,\n",
              "  'title': 'autem hic labore sunt dolores incidunt',\n",
              "  'body': 'enim et ex nulla\\nomnis voluptas quia qui\\nvoluptatem consequatur numquam aliquam sunt\\ntotam recusandae id dignissimos aut sed asperiores deserunt'},\n",
              " {'userId': 3,\n",
              "  'id': 25,\n",
              "  'title': 'rem alias distinctio quo quis',\n",
              "  'body': 'ullam consequatur ut\\nomnis quis sit vel consequuntur\\nipsa eligendi ipsum molestiae et omnis error nostrum\\nmolestiae illo tempore quia et distinctio'},\n",
              " {'userId': 3,\n",
              "  'id': 26,\n",
              "  'title': 'est et quae odit qui non',\n",
              "  'body': 'similique esse doloribus nihil accusamus\\nomnis dolorem fuga consequuntur reprehenderit fugit recusandae temporibus\\nperspiciatis cum ut laudantium\\nomnis aut molestiae vel vero'},\n",
              " {'userId': 3,\n",
              "  'id': 27,\n",
              "  'title': 'quasi id et eos tenetur aut quo autem',\n",
              "  'body': 'eum sed dolores ipsam sint possimus debitis occaecati\\ndebitis qui qui et\\nut placeat enim earum aut odit facilis\\nconsequatur suscipit necessitatibus rerum sed inventore temporibus consequatur'},\n",
              " {'userId': 3,\n",
              "  'id': 28,\n",
              "  'title': 'delectus ullam et corporis nulla voluptas sequi',\n",
              "  'body': 'non et quaerat ex quae ad maiores\\nmaiores recusandae totam aut blanditiis mollitia quas illo\\nut voluptatibus voluptatem\\nsimilique nostrum eum'},\n",
              " {'userId': 3,\n",
              "  'id': 29,\n",
              "  'title': 'iusto eius quod necessitatibus culpa ea',\n",
              "  'body': 'odit magnam ut saepe sed non qui\\ntempora atque nihil\\naccusamus illum doloribus illo dolor\\neligendi repudiandae odit magni similique sed cum maiores'},\n",
              " {'userId': 3,\n",
              "  'id': 30,\n",
              "  'title': 'a quo magni similique perferendis',\n",
              "  'body': 'alias dolor cumque\\nimpedit blanditiis non eveniet odio maxime\\nblanditiis amet eius quis tempora quia autem rem\\na provident perspiciatis quia'},\n",
              " {'userId': 4,\n",
              "  'id': 31,\n",
              "  'title': 'ullam ut quidem id aut vel consequuntur',\n",
              "  'body': 'debitis eius sed quibusdam non quis consectetur vitae\\nimpedit ut qui consequatur sed aut in\\nquidem sit nostrum et maiores adipisci atque\\nquaerat voluptatem adipisci repudiandae'},\n",
              " {'userId': 4,\n",
              "  'id': 32,\n",
              "  'title': 'doloremque illum aliquid sunt',\n",
              "  'body': 'deserunt eos nobis asperiores et hic\\nest debitis repellat molestiae optio\\nnihil ratione ut eos beatae quibusdam distinctio maiores\\nearum voluptates et aut adipisci ea maiores voluptas maxime'},\n",
              " {'userId': 4,\n",
              "  'id': 33,\n",
              "  'title': 'qui explicabo molestiae dolorem',\n",
              "  'body': 'rerum ut et numquam laborum odit est sit\\nid qui sint in\\nquasi tenetur tempore aperiam et quaerat qui in\\nrerum officiis sequi cumque quod'},\n",
              " {'userId': 4,\n",
              "  'id': 34,\n",
              "  'title': 'magnam ut rerum iure',\n",
              "  'body': 'ea velit perferendis earum ut voluptatem voluptate itaque iusto\\ntotam pariatur in\\nnemo voluptatem voluptatem autem magni tempora minima in\\nest distinctio qui assumenda accusamus dignissimos officia nesciunt nobis'},\n",
              " {'userId': 4,\n",
              "  'id': 35,\n",
              "  'title': 'id nihil consequatur molestias animi provident',\n",
              "  'body': 'nisi error delectus possimus ut eligendi vitae\\nplaceat eos harum cupiditate facilis reprehenderit voluptatem beatae\\nmodi ducimus quo illum voluptas eligendi\\net nobis quia fugit'},\n",
              " {'userId': 4,\n",
              "  'id': 36,\n",
              "  'title': 'fuga nam accusamus voluptas reiciendis itaque',\n",
              "  'body': 'ad mollitia et omnis minus architecto odit\\nvoluptas doloremque maxime aut non ipsa qui alias veniam\\nblanditiis culpa aut quia nihil cumque facere et occaecati\\nqui aspernatur quia eaque ut aperiam inventore'},\n",
              " {'userId': 4,\n",
              "  'id': 37,\n",
              "  'title': 'provident vel ut sit ratione est',\n",
              "  'body': 'debitis et eaque non officia sed nesciunt pariatur vel\\nvoluptatem iste vero et ea\\nnumquam aut expedita ipsum nulla in\\nvoluptates omnis consequatur aut enim officiis in quam qui'},\n",
              " {'userId': 4,\n",
              "  'id': 38,\n",
              "  'title': 'explicabo et eos deleniti nostrum ab id repellendus',\n",
              "  'body': 'animi esse sit aut sit nesciunt assumenda eum voluptas\\nquia voluptatibus provident quia necessitatibus ea\\nrerum repudiandae quia voluptatem delectus fugit aut id quia\\nratione optio eos iusto veniam iure'},\n",
              " {'userId': 4,\n",
              "  'id': 39,\n",
              "  'title': 'eos dolorem iste accusantium est eaque quam',\n",
              "  'body': 'corporis rerum ducimus vel eum accusantium\\nmaxime aspernatur a porro possimus iste omnis\\nest in deleniti asperiores fuga aut\\nvoluptas sapiente vel dolore minus voluptatem incidunt ex'},\n",
              " {'userId': 4,\n",
              "  'id': 40,\n",
              "  'title': 'enim quo cumque',\n",
              "  'body': 'ut voluptatum aliquid illo tenetur nemo sequi quo facilis\\nipsum rem optio mollitia quas\\nvoluptatem eum voluptas qui\\nunde omnis voluptatem iure quasi maxime voluptas nam'},\n",
              " {'userId': 5,\n",
              "  'id': 41,\n",
              "  'title': 'non est facere',\n",
              "  'body': 'molestias id nostrum\\nexcepturi molestiae dolore omnis repellendus quaerat saepe\\nconsectetur iste quaerat tenetur asperiores accusamus ex ut\\nnam quidem est ducimus sunt debitis saepe'},\n",
              " {'userId': 5,\n",
              "  'id': 42,\n",
              "  'title': 'commodi ullam sint et excepturi error explicabo praesentium voluptas',\n",
              "  'body': 'odio fugit voluptatum ducimus earum autem est incidunt voluptatem\\nodit reiciendis aliquam sunt sequi nulla dolorem\\nnon facere repellendus voluptates quia\\nratione harum vitae ut'},\n",
              " {'userId': 5,\n",
              "  'id': 43,\n",
              "  'title': 'eligendi iste nostrum consequuntur adipisci praesentium sit beatae perferendis',\n",
              "  'body': 'similique fugit est\\nillum et dolorum harum et voluptate eaque quidem\\nexercitationem quos nam commodi possimus cum odio nihil nulla\\ndolorum exercitationem magnam ex et a et distinctio debitis'},\n",
              " {'userId': 5,\n",
              "  'id': 44,\n",
              "  'title': 'optio dolor molestias sit',\n",
              "  'body': 'temporibus est consectetur dolore\\net libero debitis vel velit laboriosam quia\\nipsum quibusdam qui itaque fuga rem aut\\nea et iure quam sed maxime ut distinctio quae'},\n",
              " {'userId': 5,\n",
              "  'id': 45,\n",
              "  'title': 'ut numquam possimus omnis eius suscipit laudantium iure',\n",
              "  'body': 'est natus reiciendis nihil possimus aut provident\\nex et dolor\\nrepellat pariatur est\\nnobis rerum repellendus dolorem autem'},\n",
              " {'userId': 5,\n",
              "  'id': 46,\n",
              "  'title': 'aut quo modi neque nostrum ducimus',\n",
              "  'body': 'voluptatem quisquam iste\\nvoluptatibus natus officiis facilis dolorem\\nquis quas ipsam\\nvel et voluptatum in aliquid'},\n",
              " {'userId': 5,\n",
              "  'id': 47,\n",
              "  'title': 'quibusdam cumque rem aut deserunt',\n",
              "  'body': 'voluptatem assumenda ut qui ut cupiditate aut impedit veniam\\noccaecati nemo illum voluptatem laudantium\\nmolestiae beatae rerum ea iure soluta nostrum\\neligendi et voluptate'},\n",
              " {'userId': 5,\n",
              "  'id': 48,\n",
              "  'title': 'ut voluptatem illum ea doloribus itaque eos',\n",
              "  'body': 'voluptates quo voluptatem facilis iure occaecati\\nvel assumenda rerum officia et\\nillum perspiciatis ab deleniti\\nlaudantium repellat ad ut et autem reprehenderit'},\n",
              " {'userId': 5,\n",
              "  'id': 49,\n",
              "  'title': 'laborum non sunt aut ut assumenda perspiciatis voluptas',\n",
              "  'body': 'inventore ab sint\\nnatus fugit id nulla sequi architecto nihil quaerat\\neos tenetur in in eum veritatis non\\nquibusdam officiis aspernatur cumque aut commodi aut'},\n",
              " {'userId': 5,\n",
              "  'id': 50,\n",
              "  'title': 'repellendus qui recusandae incidunt voluptates tenetur qui omnis exercitationem',\n",
              "  'body': 'error suscipit maxime adipisci consequuntur recusandae\\nvoluptas eligendi et est et voluptates\\nquia distinctio ab amet quaerat molestiae et vitae\\nadipisci impedit sequi nesciunt quis consectetur'},\n",
              " {'userId': 6,\n",
              "  'id': 51,\n",
              "  'title': 'soluta aliquam aperiam consequatur illo quis voluptas',\n",
              "  'body': 'sunt dolores aut doloribus\\ndolore doloribus voluptates tempora et\\ndoloremque et quo\\ncum asperiores sit consectetur dolorem'},\n",
              " {'userId': 6,\n",
              "  'id': 52,\n",
              "  'title': 'qui enim et consequuntur quia animi quis voluptate quibusdam',\n",
              "  'body': 'iusto est quibusdam fuga quas quaerat molestias\\na enim ut sit accusamus enim\\ntemporibus iusto accusantium provident architecto\\nsoluta esse reprehenderit qui laborum'},\n",
              " {'userId': 6,\n",
              "  'id': 53,\n",
              "  'title': 'ut quo aut ducimus alias',\n",
              "  'body': 'minima harum praesentium eum rerum illo dolore\\nquasi exercitationem rerum nam\\nporro quis neque quo\\nconsequatur minus dolor quidem veritatis sunt non explicabo similique'},\n",
              " {'userId': 6,\n",
              "  'id': 54,\n",
              "  'title': 'sit asperiores ipsam eveniet odio non quia',\n",
              "  'body': 'totam corporis dignissimos\\nvitae dolorem ut occaecati accusamus\\nex velit deserunt\\net exercitationem vero incidunt corrupti mollitia'},\n",
              " {'userId': 6,\n",
              "  'id': 55,\n",
              "  'title': 'sit vel voluptatem et non libero',\n",
              "  'body': 'debitis excepturi ea perferendis harum libero optio\\neos accusamus cum fuga ut sapiente repudiandae\\net ut incidunt omnis molestiae\\nnihil ut eum odit'},\n",
              " {'userId': 6,\n",
              "  'id': 56,\n",
              "  'title': 'qui et at rerum necessitatibus',\n",
              "  'body': 'aut est omnis dolores\\nneque rerum quod ea rerum velit pariatur beatae excepturi\\net provident voluptas corrupti\\ncorporis harum reprehenderit dolores eligendi'},\n",
              " {'userId': 6,\n",
              "  'id': 57,\n",
              "  'title': 'sed ab est est',\n",
              "  'body': 'at pariatur consequuntur earum quidem\\nquo est laudantium soluta voluptatem\\nqui ullam et est\\net cum voluptas voluptatum repellat est'},\n",
              " {'userId': 6,\n",
              "  'id': 58,\n",
              "  'title': 'voluptatum itaque dolores nisi et quasi',\n",
              "  'body': 'veniam voluptatum quae adipisci id\\net id quia eos ad et dolorem\\naliquam quo nisi sunt eos impedit error\\nad similique veniam'},\n",
              " {'userId': 6,\n",
              "  'id': 59,\n",
              "  'title': 'qui commodi dolor at maiores et quis id accusantium',\n",
              "  'body': 'perspiciatis et quam ea autem temporibus non voluptatibus qui\\nbeatae a earum officia nesciunt dolores suscipit voluptas et\\nanimi doloribus cum rerum quas et magni\\net hic ut ut commodi expedita sunt'},\n",
              " {'userId': 6,\n",
              "  'id': 60,\n",
              "  'title': 'consequatur placeat omnis quisquam quia reprehenderit fugit veritatis facere',\n",
              "  'body': 'asperiores sunt ab assumenda cumque modi velit\\nqui esse omnis\\nvoluptate et fuga perferendis voluptas\\nillo ratione amet aut et omnis'},\n",
              " {'userId': 7,\n",
              "  'id': 61,\n",
              "  'title': 'voluptatem doloribus consectetur est ut ducimus',\n",
              "  'body': 'ab nemo optio odio\\ndelectus tenetur corporis similique nobis repellendus rerum omnis facilis\\nvero blanditiis debitis in nesciunt doloribus dicta dolores\\nmagnam minus velit'},\n",
              " {'userId': 7,\n",
              "  'id': 62,\n",
              "  'title': 'beatae enim quia vel',\n",
              "  'body': 'enim aspernatur illo distinctio quae praesentium\\nbeatae alias amet delectus qui voluptate distinctio\\nodit sint accusantium autem omnis\\nquo molestiae omnis ea eveniet optio'},\n",
              " {'userId': 7,\n",
              "  'id': 63,\n",
              "  'title': 'voluptas blanditiis repellendus animi ducimus error sapiente et suscipit',\n",
              "  'body': 'enim adipisci aspernatur nemo\\nnumquam omnis facere dolorem dolor ex quis temporibus incidunt\\nab delectus culpa quo reprehenderit blanditiis asperiores\\naccusantium ut quam in voluptatibus voluptas ipsam dicta'},\n",
              " {'userId': 7,\n",
              "  'id': 64,\n",
              "  'title': 'et fugit quas eum in in aperiam quod',\n",
              "  'body': 'id velit blanditiis\\neum ea voluptatem\\nmolestiae sint occaecati est eos perspiciatis\\nincidunt a error provident eaque aut aut qui'},\n",
              " {'userId': 7,\n",
              "  'id': 65,\n",
              "  'title': 'consequatur id enim sunt et et',\n",
              "  'body': 'voluptatibus ex esse\\nsint explicabo est aliquid cumque adipisci fuga repellat labore\\nmolestiae corrupti ex saepe at asperiores et perferendis\\nnatus id esse incidunt pariatur'},\n",
              " {'userId': 7,\n",
              "  'id': 66,\n",
              "  'title': 'repudiandae ea animi iusto',\n",
              "  'body': 'officia veritatis tenetur vero qui itaque\\nsint non ratione\\nsed et ut asperiores iusto eos molestiae nostrum\\nveritatis quibusdam et nemo iusto saepe'},\n",
              " {'userId': 7,\n",
              "  'id': 67,\n",
              "  'title': 'aliquid eos sed fuga est maxime repellendus',\n",
              "  'body': 'reprehenderit id nostrum\\nvoluptas doloremque pariatur sint et accusantium quia quod aspernatur\\net fugiat amet\\nnon sapiente et consequatur necessitatibus molestiae'},\n",
              " {'userId': 7,\n",
              "  'id': 68,\n",
              "  'title': 'odio quis facere architecto reiciendis optio',\n",
              "  'body': 'magnam molestiae perferendis quisquam\\nqui cum reiciendis\\nquaerat animi amet hic inventore\\nea quia deleniti quidem saepe porro velit'},\n",
              " {'userId': 7,\n",
              "  'id': 69,\n",
              "  'title': 'fugiat quod pariatur odit minima',\n",
              "  'body': 'officiis error culpa consequatur modi asperiores et\\ndolorum assumenda voluptas et vel qui aut vel rerum\\nvoluptatum quisquam perspiciatis quia rerum consequatur totam quas\\nsequi commodi repudiandae asperiores et saepe a'},\n",
              " {'userId': 7,\n",
              "  'id': 70,\n",
              "  'title': 'voluptatem laborum magni',\n",
              "  'body': 'sunt repellendus quae\\nest asperiores aut deleniti esse accusamus repellendus quia aut\\nquia dolorem unde\\neum tempora esse dolore'},\n",
              " {'userId': 8,\n",
              "  'id': 71,\n",
              "  'title': 'et iusto veniam et illum aut fuga',\n",
              "  'body': 'occaecati a doloribus\\niste saepe consectetur placeat eum voluptate dolorem et\\nqui quo quia voluptas\\nrerum ut id enim velit est perferendis'},\n",
              " {'userId': 8,\n",
              "  'id': 72,\n",
              "  'title': 'sint hic doloribus consequatur eos non id',\n",
              "  'body': 'quam occaecati qui deleniti consectetur\\nconsequatur aut facere quas exercitationem aliquam hic voluptas\\nneque id sunt ut aut accusamus\\nsunt consectetur expedita inventore velit'},\n",
              " {'userId': 8,\n",
              "  'id': 73,\n",
              "  'title': 'consequuntur deleniti eos quia temporibus ab aliquid at',\n",
              "  'body': 'voluptatem cumque tenetur consequatur expedita ipsum nemo quia explicabo\\naut eum minima consequatur\\ntempore cumque quae est et\\net in consequuntur voluptatem voluptates aut'},\n",
              " {'userId': 8,\n",
              "  'id': 74,\n",
              "  'title': 'enim unde ratione doloribus quas enim ut sit sapiente',\n",
              "  'body': 'odit qui et et necessitatibus sint veniam\\nmollitia amet doloremque molestiae commodi similique magnam et quam\\nblanditiis est itaque\\nquo et tenetur ratione occaecati molestiae tempora'},\n",
              " {'userId': 8,\n",
              "  'id': 75,\n",
              "  'title': 'dignissimos eum dolor ut enim et delectus in',\n",
              "  'body': 'commodi non non omnis et voluptas sit\\nautem aut nobis magnam et sapiente voluptatem\\net laborum repellat qui delectus facilis temporibus\\nrerum amet et nemo voluptate expedita adipisci error dolorem'},\n",
              " {'userId': 8,\n",
              "  'id': 76,\n",
              "  'title': 'doloremque officiis ad et non perferendis',\n",
              "  'body': 'ut animi facere\\ntotam iusto tempore\\nmolestiae eum aut et dolorem aperiam\\nquaerat recusandae totam odio'},\n",
              " {'userId': 8,\n",
              "  'id': 77,\n",
              "  'title': 'necessitatibus quasi exercitationem odio',\n",
              "  'body': 'modi ut in nulla repudiandae dolorum nostrum eos\\naut consequatur omnis\\nut incidunt est omnis iste et quam\\nvoluptates sapiente aliquam asperiores nobis amet corrupti repudiandae provident'},\n",
              " {'userId': 8,\n",
              "  'id': 78,\n",
              "  'title': 'quam voluptatibus rerum veritatis',\n",
              "  'body': 'nobis facilis odit tempore cupiditate quia\\nassumenda doloribus rerum qui ea\\nillum et qui totam\\naut veniam repellendus'},\n",
              " {'userId': 8,\n",
              "  'id': 79,\n",
              "  'title': 'pariatur consequatur quia magnam autem omnis non amet',\n",
              "  'body': 'libero accusantium et et facere incidunt sit dolorem\\nnon excepturi qui quia sed laudantium\\nquisquam molestiae ducimus est\\nofficiis esse molestiae iste et quos'},\n",
              " {'userId': 8,\n",
              "  'id': 80,\n",
              "  'title': 'labore in ex et explicabo corporis aut quas',\n",
              "  'body': 'ex quod dolorem ea eum iure qui provident amet\\nquia qui facere excepturi et repudiandae\\nasperiores molestias provident\\nminus incidunt vero fugit rerum sint sunt excepturi provident'},\n",
              " {'userId': 9,\n",
              "  'id': 81,\n",
              "  'title': 'tempora rem veritatis voluptas quo dolores vero',\n",
              "  'body': 'facere qui nesciunt est voluptatum voluptatem nisi\\nsequi eligendi necessitatibus ea at rerum itaque\\nharum non ratione velit laboriosam quis consequuntur\\nex officiis minima doloremque voluptas ut aut'},\n",
              " {'userId': 9,\n",
              "  'id': 82,\n",
              "  'title': 'laudantium voluptate suscipit sunt enim enim',\n",
              "  'body': 'ut libero sit aut totam inventore sunt\\nporro sint qui sunt molestiae\\nconsequatur cupiditate qui iste ducimus adipisci\\ndolor enim assumenda soluta laboriosam amet iste delectus hic'},\n",
              " {'userId': 9,\n",
              "  'id': 83,\n",
              "  'title': 'odit et voluptates doloribus alias odio et',\n",
              "  'body': 'est molestiae facilis quis tempora numquam nihil qui\\nvoluptate sapiente consequatur est qui\\nnecessitatibus autem aut ipsa aperiam modi dolore numquam\\nreprehenderit eius rem quibusdam'},\n",
              " {'userId': 9,\n",
              "  'id': 84,\n",
              "  'title': 'optio ipsam molestias necessitatibus occaecati facilis veritatis dolores aut',\n",
              "  'body': 'sint molestiae magni a et quos\\neaque et quasi\\nut rerum debitis similique veniam\\nrecusandae dignissimos dolor incidunt consequatur odio'},\n",
              " {'userId': 9,\n",
              "  'id': 85,\n",
              "  'title': 'dolore veritatis porro provident adipisci blanditiis et sunt',\n",
              "  'body': 'similique sed nisi voluptas iusto omnis\\nmollitia et quo\\nassumenda suscipit officia magnam sint sed tempora\\nenim provident pariatur praesentium atque animi amet ratione'},\n",
              " {'userId': 9,\n",
              "  'id': 86,\n",
              "  'title': 'placeat quia et porro iste',\n",
              "  'body': 'quasi excepturi consequatur iste autem temporibus sed molestiae beatae\\net quaerat et esse ut\\nvoluptatem occaecati et vel explicabo autem\\nasperiores pariatur deserunt optio'},\n",
              " {'userId': 9,\n",
              "  'id': 87,\n",
              "  'title': 'nostrum quis quasi placeat',\n",
              "  'body': 'eos et molestiae\\nnesciunt ut a\\ndolores perspiciatis repellendus repellat aliquid\\nmagnam sint rem ipsum est'},\n",
              " {'userId': 9,\n",
              "  'id': 88,\n",
              "  'title': 'sapiente omnis fugit eos',\n",
              "  'body': 'consequatur omnis est praesentium\\nducimus non iste\\nneque hic deserunt\\nvoluptatibus veniam cum et rerum sed'},\n",
              " {'userId': 9,\n",
              "  'id': 89,\n",
              "  'title': 'sint soluta et vel magnam aut ut sed qui',\n",
              "  'body': 'repellat aut aperiam totam temporibus autem et\\narchitecto magnam ut\\nconsequatur qui cupiditate rerum quia soluta dignissimos nihil iure\\ntempore quas est'},\n",
              " {'userId': 9,\n",
              "  'id': 90,\n",
              "  'title': 'ad iusto omnis odit dolor voluptatibus',\n",
              "  'body': 'minus omnis soluta quia\\nqui sed adipisci voluptates illum ipsam voluptatem\\neligendi officia ut in\\neos soluta similique molestias praesentium blanditiis'},\n",
              " {'userId': 10,\n",
              "  'id': 91,\n",
              "  'title': 'aut amet sed',\n",
              "  'body': 'libero voluptate eveniet aperiam sed\\nsunt placeat suscipit molestias\\nsimilique fugit nam natus\\nexpedita consequatur consequatur dolores quia eos et placeat'},\n",
              " {'userId': 10,\n",
              "  'id': 92,\n",
              "  'title': 'ratione ex tenetur perferendis',\n",
              "  'body': 'aut et excepturi dicta laudantium sint rerum nihil\\nlaudantium et at\\na neque minima officia et similique libero et\\ncommodi voluptate qui'},\n",
              " {'userId': 10,\n",
              "  'id': 93,\n",
              "  'title': 'beatae soluta recusandae',\n",
              "  'body': 'dolorem quibusdam ducimus consequuntur dicta aut quo laboriosam\\nvoluptatem quis enim recusandae ut sed sunt\\nnostrum est odit totam\\nsit error sed sunt eveniet provident qui nulla'},\n",
              " {'userId': 10,\n",
              "  'id': 94,\n",
              "  'title': 'qui qui voluptates illo iste minima',\n",
              "  'body': 'aspernatur expedita soluta quo ab ut similique\\nexpedita dolores amet\\nsed temporibus distinctio magnam saepe deleniti\\nomnis facilis nam ipsum natus sint similique omnis'},\n",
              " {'userId': 10,\n",
              "  'id': 95,\n",
              "  'title': 'id minus libero illum nam ad officiis',\n",
              "  'body': 'earum voluptatem facere provident blanditiis velit laboriosam\\npariatur accusamus odio saepe\\ncumque dolor qui a dicta ab doloribus consequatur omnis\\ncorporis cupiditate eaque assumenda ad nesciunt'},\n",
              " {'userId': 10,\n",
              "  'id': 96,\n",
              "  'title': 'quaerat velit veniam amet cupiditate aut numquam ut sequi',\n",
              "  'body': 'in non odio excepturi sint eum\\nlabore voluptates vitae quia qui et\\ninventore itaque rerum\\nveniam non exercitationem delectus aut'},\n",
              " {'userId': 10,\n",
              "  'id': 97,\n",
              "  'title': 'quas fugiat ut perspiciatis vero provident',\n",
              "  'body': 'eum non blanditiis soluta porro quibusdam voluptas\\nvel voluptatem qui placeat dolores qui velit aut\\nvel inventore aut cumque culpa explicabo aliquid at\\nperspiciatis est et voluptatem dignissimos dolor itaque sit nam'},\n",
              " {'userId': 10,\n",
              "  'id': 98,\n",
              "  'title': 'laboriosam dolor voluptates',\n",
              "  'body': 'doloremque ex facilis sit sint culpa\\nsoluta assumenda eligendi non ut eius\\nsequi ducimus vel quasi\\nveritatis est dolores'},\n",
              " {'userId': 10,\n",
              "  'id': 99,\n",
              "  'title': 'temporibus sit alias delectus eligendi possimus magni',\n",
              "  'body': 'quo deleniti praesentium dicta non quod\\naut est molestias\\nmolestias et officia quis nihil\\nitaque dolorem quia'},\n",
              " {'userId': 10,\n",
              "  'id': 100,\n",
              "  'title': 'at nam consequatur ea labore ea harum',\n",
              "  'body': 'cupiditate quo est a modi nesciunt soluta\\nipsa voluptas error itaque dicta in\\nautem qui minus magnam et distinctio eum\\naccusamus ratione error aut'}]"
            ]
          },
          "metadata": {},
          "execution_count": 4
        }
      ]
    },
    {
      "cell_type": "code",
      "source": [
        "#With Paddas\n",
        "import pandas as pd\n",
        "df = pd.json_normalize(data)\n",
        "df.head()"
      ],
      "metadata": {
        "id": "EUkKhXrMn6vC",
        "outputId": "dd528c68-a947-4717-8465-4122db87373e",
        "colab": {
          "base_uri": "https://localhost:8080/",
          "height": 206
        }
      },
      "execution_count": 5,
      "outputs": [
        {
          "output_type": "execute_result",
          "data": {
            "text/plain": [
              "   userId  id                                              title  \\\n",
              "0       1   1  sunt aut facere repellat provident occaecati e...   \n",
              "1       1   2                                       qui est esse   \n",
              "2       1   3  ea molestias quasi exercitationem repellat qui...   \n",
              "3       1   4                               eum et est occaecati   \n",
              "4       1   5                                 nesciunt quas odio   \n",
              "\n",
              "                                                body  \n",
              "0  quia et suscipit\\nsuscipit recusandae consequu...  \n",
              "1  est rerum tempore vitae\\nsequi sint nihil repr...  \n",
              "2  et iusto sed quo iure\\nvoluptatem occaecati om...  \n",
              "3  ullam et saepe reiciendis voluptatem adipisci\\...  \n",
              "4  repudiandae veniam quaerat sunt sed\\nalias aut...  "
            ],
            "text/html": [
              "\n",
              "  <div id=\"df-ccc772ad-e6c1-4bdf-9bf4-3cb37ca10428\">\n",
              "    <div class=\"colab-df-container\">\n",
              "      <div>\n",
              "<style scoped>\n",
              "    .dataframe tbody tr th:only-of-type {\n",
              "        vertical-align: middle;\n",
              "    }\n",
              "\n",
              "    .dataframe tbody tr th {\n",
              "        vertical-align: top;\n",
              "    }\n",
              "\n",
              "    .dataframe thead th {\n",
              "        text-align: right;\n",
              "    }\n",
              "</style>\n",
              "<table border=\"1\" class=\"dataframe\">\n",
              "  <thead>\n",
              "    <tr style=\"text-align: right;\">\n",
              "      <th></th>\n",
              "      <th>userId</th>\n",
              "      <th>id</th>\n",
              "      <th>title</th>\n",
              "      <th>body</th>\n",
              "    </tr>\n",
              "  </thead>\n",
              "  <tbody>\n",
              "    <tr>\n",
              "      <th>0</th>\n",
              "      <td>1</td>\n",
              "      <td>1</td>\n",
              "      <td>sunt aut facere repellat provident occaecati e...</td>\n",
              "      <td>quia et suscipit\\nsuscipit recusandae consequu...</td>\n",
              "    </tr>\n",
              "    <tr>\n",
              "      <th>1</th>\n",
              "      <td>1</td>\n",
              "      <td>2</td>\n",
              "      <td>qui est esse</td>\n",
              "      <td>est rerum tempore vitae\\nsequi sint nihil repr...</td>\n",
              "    </tr>\n",
              "    <tr>\n",
              "      <th>2</th>\n",
              "      <td>1</td>\n",
              "      <td>3</td>\n",
              "      <td>ea molestias quasi exercitationem repellat qui...</td>\n",
              "      <td>et iusto sed quo iure\\nvoluptatem occaecati om...</td>\n",
              "    </tr>\n",
              "    <tr>\n",
              "      <th>3</th>\n",
              "      <td>1</td>\n",
              "      <td>4</td>\n",
              "      <td>eum et est occaecati</td>\n",
              "      <td>ullam et saepe reiciendis voluptatem adipisci\\...</td>\n",
              "    </tr>\n",
              "    <tr>\n",
              "      <th>4</th>\n",
              "      <td>1</td>\n",
              "      <td>5</td>\n",
              "      <td>nesciunt quas odio</td>\n",
              "      <td>repudiandae veniam quaerat sunt sed\\nalias aut...</td>\n",
              "    </tr>\n",
              "  </tbody>\n",
              "</table>\n",
              "</div>\n",
              "      <button class=\"colab-df-convert\" onclick=\"convertToInteractive('df-ccc772ad-e6c1-4bdf-9bf4-3cb37ca10428')\"\n",
              "              title=\"Convert this dataframe to an interactive table.\"\n",
              "              style=\"display:none;\">\n",
              "        \n",
              "  <svg xmlns=\"http://www.w3.org/2000/svg\" height=\"24px\"viewBox=\"0 0 24 24\"\n",
              "       width=\"24px\">\n",
              "    <path d=\"M0 0h24v24H0V0z\" fill=\"none\"/>\n",
              "    <path d=\"M18.56 5.44l.94 2.06.94-2.06 2.06-.94-2.06-.94-.94-2.06-.94 2.06-2.06.94zm-11 1L8.5 8.5l.94-2.06 2.06-.94-2.06-.94L8.5 2.5l-.94 2.06-2.06.94zm10 10l.94 2.06.94-2.06 2.06-.94-2.06-.94-.94-2.06-.94 2.06-2.06.94z\"/><path d=\"M17.41 7.96l-1.37-1.37c-.4-.4-.92-.59-1.43-.59-.52 0-1.04.2-1.43.59L10.3 9.45l-7.72 7.72c-.78.78-.78 2.05 0 2.83L4 21.41c.39.39.9.59 1.41.59.51 0 1.02-.2 1.41-.59l7.78-7.78 2.81-2.81c.8-.78.8-2.07 0-2.86zM5.41 20L4 18.59l7.72-7.72 1.47 1.35L5.41 20z\"/>\n",
              "  </svg>\n",
              "      </button>\n",
              "      \n",
              "  <style>\n",
              "    .colab-df-container {\n",
              "      display:flex;\n",
              "      flex-wrap:wrap;\n",
              "      gap: 12px;\n",
              "    }\n",
              "\n",
              "    .colab-df-convert {\n",
              "      background-color: #E8F0FE;\n",
              "      border: none;\n",
              "      border-radius: 50%;\n",
              "      cursor: pointer;\n",
              "      display: none;\n",
              "      fill: #1967D2;\n",
              "      height: 32px;\n",
              "      padding: 0 0 0 0;\n",
              "      width: 32px;\n",
              "    }\n",
              "\n",
              "    .colab-df-convert:hover {\n",
              "      background-color: #E2EBFA;\n",
              "      box-shadow: 0px 1px 2px rgba(60, 64, 67, 0.3), 0px 1px 3px 1px rgba(60, 64, 67, 0.15);\n",
              "      fill: #174EA6;\n",
              "    }\n",
              "\n",
              "    [theme=dark] .colab-df-convert {\n",
              "      background-color: #3B4455;\n",
              "      fill: #D2E3FC;\n",
              "    }\n",
              "\n",
              "    [theme=dark] .colab-df-convert:hover {\n",
              "      background-color: #434B5C;\n",
              "      box-shadow: 0px 1px 3px 1px rgba(0, 0, 0, 0.15);\n",
              "      filter: drop-shadow(0px 1px 2px rgba(0, 0, 0, 0.3));\n",
              "      fill: #FFFFFF;\n",
              "    }\n",
              "  </style>\n",
              "\n",
              "      <script>\n",
              "        const buttonEl =\n",
              "          document.querySelector('#df-ccc772ad-e6c1-4bdf-9bf4-3cb37ca10428 button.colab-df-convert');\n",
              "        buttonEl.style.display =\n",
              "          google.colab.kernel.accessAllowed ? 'block' : 'none';\n",
              "\n",
              "        async function convertToInteractive(key) {\n",
              "          const element = document.querySelector('#df-ccc772ad-e6c1-4bdf-9bf4-3cb37ca10428');\n",
              "          const dataTable =\n",
              "            await google.colab.kernel.invokeFunction('convertToInteractive',\n",
              "                                                     [key], {});\n",
              "          if (!dataTable) return;\n",
              "\n",
              "          const docLinkHtml = 'Like what you see? Visit the ' +\n",
              "            '<a target=\"_blank\" href=https://colab.research.google.com/notebooks/data_table.ipynb>data table notebook</a>'\n",
              "            + ' to learn more about interactive tables.';\n",
              "          element.innerHTML = '';\n",
              "          dataTable['output_type'] = 'display_data';\n",
              "          await google.colab.output.renderOutput(dataTable, element);\n",
              "          const docLink = document.createElement('div');\n",
              "          docLink.innerHTML = docLinkHtml;\n",
              "          element.appendChild(docLink);\n",
              "        }\n",
              "      </script>\n",
              "    </div>\n",
              "  </div>\n",
              "  "
            ]
          },
          "metadata": {},
          "execution_count": 5
        }
      ]
    },
    {
      "cell_type": "code",
      "source": [
        "df ['userId'].value_counts()"
      ],
      "metadata": {
        "id": "Q8vp70LxoUTP",
        "outputId": "0bc4b197-dc40-4dcf-ee4d-ccf3f12c9477",
        "colab": {
          "base_uri": "https://localhost:8080/"
        }
      },
      "execution_count": 6,
      "outputs": [
        {
          "output_type": "execute_result",
          "data": {
            "text/plain": [
              "1     10\n",
              "2     10\n",
              "3     10\n",
              "4     10\n",
              "5     10\n",
              "6     10\n",
              "7     10\n",
              "8     10\n",
              "9     10\n",
              "10    10\n",
              "Name: userId, dtype: int64"
            ]
          },
          "metadata": {},
          "execution_count": 6
        }
      ]
    },
    {
      "cell_type": "code",
      "source": [
        "# Your code here\n",
        "post_count = {}\n",
        "\n",
        "for record on data:\n",
        "  if record['userId']"
      ],
      "metadata": {
        "id": "HfQq5dH1EElu"
      },
      "execution_count": null,
      "outputs": []
    },
    {
      "cell_type": "code",
      "source": [
        "value = 2"
      ],
      "metadata": {
        "id": "GjIUmTXSEEjf"
      },
      "execution_count": null,
      "outputs": []
    },
    {
      "cell_type": "code",
      "source": [
        "name = value\n",
        "\n",
        "count = 2"
      ],
      "metadata": {
        "id": "ujnWUh20EEg-"
      },
      "execution_count": null,
      "outputs": []
    },
    {
      "cell_type": "code",
      "source": [],
      "metadata": {
        "id": "gH77SSv_py2w"
      },
      "execution_count": null,
      "outputs": []
    }
  ],
  "metadata": {
    "colab": {
      "provenance": [],
      "collapsed_sections": [
        "8RsAU8lRQVGu",
        "czqeGl1bSpQs",
        "8ZjELYDAYvrs",
        "7l0RjE44Zm8l"
      ],
      "include_colab_link": true
    },
    "kernelspec": {
      "display_name": "Python 3",
      "name": "python3"
    },
    "language_info": {
      "name": "python"
    }
  },
  "nbformat": 4,
  "nbformat_minor": 0
}