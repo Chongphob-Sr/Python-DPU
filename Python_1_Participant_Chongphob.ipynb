{
  "cells": [
    {
      "cell_type": "markdown",
      "metadata": {
        "id": "view-in-github",
        "colab_type": "text"
      },
      "source": [
        "<a href=\"https://colab.research.google.com/github/Chongphob-Sr/Python-DPU/blob/main/Python_1_Participant_Chongphob.ipynb\" target=\"_parent\"><img src=\"https://colab.research.google.com/assets/colab-badge.svg\" alt=\"Open In Colab\"/></a>"
      ]
    },
    {
      "cell_type": "markdown",
      "source": [
        "# Python Crash Course\n",
        "This is a quick Python recap; meant for either \n",
        "- those who are already experienced in Python programming, or\n",
        "- those who have some programming background and want to get up to speed with Python.\n",
        "\n",
        "Notebook written by Papoj Thamjaroenporn, 2022.\n",
        "\n",
        "Some original materials by Mathieu Blondel."
      ],
      "metadata": {
        "id": "RFko1U1jg9rG"
      }
    },
    {
      "cell_type": "markdown",
      "source": [
        "## Getting Started: Hello World!"
      ],
      "metadata": {
        "id": "rr22uvyRgu5T"
      }
    },
    {
      "cell_type": "code",
      "source": [
        "# Your code her\n",
        "print(\"Hello World !\")"
      ],
      "metadata": {
        "id": "QjVPbGSLgtnO",
        "colab": {
          "base_uri": "https://localhost:8080/"
        },
        "outputId": "89616cb2-fc13-4e70-f839-53571586ffaa"
      },
      "execution_count": null,
      "outputs": [
        {
          "output_type": "stream",
          "name": "stdout",
          "text": [
            "Hello World !\n"
          ]
        }
      ]
    },
    {
      "cell_type": "code",
      "source": [
        "# Which Python version am I using?\n",
        "!python --version"
      ],
      "metadata": {
        "colab": {
          "base_uri": "https://localhost:8080/"
        },
        "id": "bVB5clLPamEQ",
        "outputId": "1f85ba73-432a-4151-eace-8e3bf6f4929a"
      },
      "execution_count": null,
      "outputs": [
        {
          "output_type": "stream",
          "name": "stdout",
          "text": [
            "Python 3.8.10\n"
          ]
        }
      ]
    },
    {
      "cell_type": "code",
      "source": [
        "print(\"TCRB')"
      ],
      "metadata": {
        "colab": {
          "base_uri": "https://localhost:8080/",
          "height": 133
        },
        "id": "sT16mgemrFxC",
        "outputId": "bbe89e7d-5709-403f-f652-84d58f3d9eb4"
      },
      "execution_count": null,
      "outputs": [
        {
          "output_type": "error",
          "ename": "SyntaxError",
          "evalue": "ignored",
          "traceback": [
            "\u001b[0;36m  File \u001b[0;32m\"<ipython-input-4-3d7bb904d339>\"\u001b[0;36m, line \u001b[0;32m1\u001b[0m\n\u001b[0;31m    print(\"TCRB')\u001b[0m\n\u001b[0m                 ^\u001b[0m\n\u001b[0;31mSyntaxError\u001b[0m\u001b[0;31m:\u001b[0m EOL while scanning string literal\n"
          ]
        }
      ]
    },
    {
      "cell_type": "markdown",
      "source": [
        "## About Jupyter Notebook and Google Colab"
      ],
      "metadata": {
        "id": "s1Bv8vPKcCpE"
      }
    },
    {
      "cell_type": "markdown",
      "source": [
        "We will use Jupyter notebooks and Google colab as the primary way to practice machine learning. \n",
        "\n",
        "Notebooks are a great way to mix executable **code** with **rich contents** (HTML, images, equations written in LaTeX). \n",
        "\n",
        "Example of a LaTeX equation:\n",
        "\n",
        "-- Your equation here --\n",
        "$$y = mx^ + b$$\n",
        "\n",
        "Example of an image attachment:\n",
        "![CoLab Logo](https://www.vlrtraining.in/wp-content/uploads/2020/10/logo-devops-768x876.png)"
      ],
      "metadata": {
        "id": "6vHKO_pfcFrU"
      }
    },
    {
      "cell_type": "markdown",
      "source": [
        "## Python Comments"
      ],
      "metadata": {
        "id": "k5hy9d1qe-Fp"
      }
    },
    {
      "cell_type": "markdown",
      "source": [
        "A function looks like this: `f(x)`.\n",
        "- `x` is the input,\n",
        "- `f` is the name of your function,\n",
        "- `f(x)` is the output.\n",
        "\n",
        "So `print` and `str` are functions."
      ],
      "metadata": {
        "id": "GZBU52MXZ9D5"
      }
    },
    {
      "cell_type": "code",
      "source": [
        "# This is a comment\n",
        "print(\"Your code runs here.\")\n",
        "\n",
        "print(\"Your code here will also run.\") # But this will not run\n",
        "\n",
        "\"\"\"You can also write\n",
        "multiple lines of code\n",
        "using triple-quote notation.\n",
        "\"\"\"\n",
        "x = 1\n",
        "y = 2\n",
        "print(\"Your code here will run yet again. What's x + y? Answer: \" + str(x + y))"
      ],
      "metadata": {
        "colab": {
          "base_uri": "https://localhost:8080/"
        },
        "id": "oLTGUkjue_vK",
        "outputId": "a16d95b0-b288-4dcd-e884-2a20f58974de"
      },
      "execution_count": null,
      "outputs": [
        {
          "output_type": "stream",
          "name": "stdout",
          "text": [
            "Your code runs here.\n",
            "Your code here will also run.\n",
            "Your code here will run yet again. What's x + y? Answer: 3\n"
          ]
        }
      ]
    },
    {
      "cell_type": "markdown",
      "source": [
        "## Assignment, Variables, Operators"
      ],
      "metadata": {
        "id": "1fUTSe9fhNw9"
      }
    },
    {
      "cell_type": "code",
      "source": [
        "x = 10\n",
        "print(x)"
      ],
      "metadata": {
        "colab": {
          "base_uri": "https://localhost:8080/"
        },
        "id": "wcT4sN1NaK77",
        "outputId": "ba02426d-a6dd-488a-a735-5f2166ce867c"
      },
      "execution_count": null,
      "outputs": [
        {
          "output_type": "stream",
          "name": "stdout",
          "text": [
            "10\n"
          ]
        }
      ]
    },
    {
      "cell_type": "code",
      "source": [
        "# Reassignment with replacement\n",
        "x = 12\n",
        "print(x)"
      ],
      "metadata": {
        "colab": {
          "base_uri": "https://localhost:8080/"
        },
        "id": "SJNvJlEpaL1S",
        "outputId": "407925ee-f25d-436a-e171-bd88cef0c8bb"
      },
      "execution_count": null,
      "outputs": [
        {
          "output_type": "stream",
          "name": "stdout",
          "text": [
            "12\n"
          ]
        }
      ]
    },
    {
      "cell_type": "code",
      "source": [
        "# Reassignment with increment\n",
        "x = x + 3\n",
        "print(x)"
      ],
      "metadata": {
        "colab": {
          "base_uri": "https://localhost:8080/"
        },
        "id": "zE7A1QraaMqL",
        "outputId": "87890b6f-99cb-441d-b40b-254c43227d7a"
      },
      "execution_count": null,
      "outputs": [
        {
          "output_type": "stream",
          "name": "stdout",
          "text": [
            "15\n"
          ]
        }
      ]
    },
    {
      "cell_type": "code",
      "source": [
        "# Reassignment with increment (a shortcut)\n",
        "x += 3\n",
        "print(x)"
      ],
      "metadata": {
        "colab": {
          "base_uri": "https://localhost:8080/"
        },
        "id": "lYLVTdvJaNdj",
        "outputId": "ec630e01-b722-4e66-b20d-b4dfde468440"
      },
      "execution_count": null,
      "outputs": [
        {
          "output_type": "stream",
          "name": "stdout",
          "text": [
            "18\n"
          ]
        }
      ]
    },
    {
      "cell_type": "code",
      "source": [
        "# Order of precedence\n",
        "7 + 20 / 5"
      ],
      "metadata": {
        "colab": {
          "base_uri": "https://localhost:8080/"
        },
        "id": "UguEGZsraOgE",
        "outputId": "1faa3a9d-9fed-4154-99bf-abd8c6c29aba"
      },
      "execution_count": null,
      "outputs": [
        {
          "output_type": "execute_result",
          "data": {
            "text/plain": [
              "11.0"
            ]
          },
          "metadata": {},
          "execution_count": 5
        }
      ]
    },
    {
      "cell_type": "markdown",
      "source": [
        "### Exercise: Assignment, Variables, Operators"
      ],
      "metadata": {
        "id": "svXCVArohmww"
      }
    },
    {
      "cell_type": "markdown",
      "source": [
        "For each of the following exercises, do it in a single block."
      ],
      "metadata": {
        "id": "o3x0-b45aJqX"
      }
    },
    {
      "cell_type": "markdown",
      "source": [
        "#### Exercise AVO.1\n",
        "1. Create a variable `x` and assign a number `10` to `x`.\n",
        "2. Add `5` to `x`.\n",
        "3. Display the value of `x` with `print`.\n"
      ],
      "metadata": {
        "id": "-5mX25cmiIoU"
      }
    },
    {
      "cell_type": "code",
      "source": [
        "# Your code here\n",
        "x = 10\n",
        "x += 5\n",
        "print(x)"
      ],
      "metadata": {
        "colab": {
          "base_uri": "https://localhost:8080/"
        },
        "id": "QqGphDtViCCJ",
        "outputId": "cd18a1ea-1175-4085-a9bf-9c652822bb9f"
      },
      "execution_count": null,
      "outputs": [
        {
          "output_type": "stream",
          "name": "stdout",
          "text": [
            "15\n"
          ]
        }
      ]
    },
    {
      "cell_type": "markdown",
      "source": [
        "#### Exercise AVO.2\n",
        "1. Reassign variable `x` to have a value of `50/20`.\n",
        "2. Display the value of `x` with `print`. What do you expect to see?"
      ],
      "metadata": {
        "id": "KrE68bZwhqMK"
      }
    },
    {
      "cell_type": "code",
      "source": [
        "# Your code here\n",
        "x = 50/20\n",
        "print(x)"
      ],
      "metadata": {
        "id": "e4q0ARiZE1IJ",
        "colab": {
          "base_uri": "https://localhost:8080/"
        },
        "outputId": "32028875-7a7e-4221-bd8d-551b89753b07"
      },
      "execution_count": null,
      "outputs": [
        {
          "output_type": "stream",
          "name": "stdout",
          "text": [
            "2.5\n"
          ]
        }
      ]
    },
    {
      "cell_type": "markdown",
      "source": [
        "#### Exercise AVO.3\n",
        "1. Reassign variable `x` to have a value of `10`.\n",
        "2. Create a variable `y` and assign a number `-2` to it.\n",
        "3. Calculate and print `x % 3 + y * 2`. What do you expect to see?"
      ],
      "metadata": {
        "id": "MZ4TwyMHimIU"
      }
    },
    {
      "cell_type": "code",
      "source": [
        "# Your code here\n",
        "x = 10\n",
        "y = -2\n",
        "\n",
        "# Mathematical explanation:\n",
        "# x % 3 + y * 2 = (x % 3) + (y * 2)\n",
        "#               = (10 % 3) + (-2 * 2)\n",
        "#               = 1 + (-4)\n",
        "#               = -3\n",
        "\n",
        "print(x % 3 + y * 2)"
      ],
      "metadata": {
        "colab": {
          "base_uri": "https://localhost:8080/"
        },
        "id": "pNCW0t4YUiBT",
        "outputId": "7768e3e6-c74d-4159-c773-6c2728a68fd9"
      },
      "execution_count": null,
      "outputs": [
        {
          "output_type": "stream",
          "name": "stdout",
          "text": [
            "-3\n"
          ]
        }
      ]
    },
    {
      "cell_type": "markdown",
      "source": [
        "#### Exercise 1.4\n",
        "Fix the following code with string concatenation and type casting. Alternatively, use the f-string."
      ],
      "metadata": {
        "id": "yrYdaF8YTMWf"
      }
    },
    {
      "cell_type": "code",
      "source": [
        "date = 8"
      ],
      "metadata": {
        "id": "04nfEWHqfCMO"
      },
      "execution_count": null,
      "outputs": []
    },
    {
      "cell_type": "code",
      "source": [
        "# Uncomment this\n",
        "print(\"Today's date is \" + str(date))"
      ],
      "metadata": {
        "id": "hWpIx1nKTMxD",
        "colab": {
          "base_uri": "https://localhost:8080/"
        },
        "outputId": "033ba91d-b4ec-43c2-89da-880272c47f61"
      },
      "execution_count": null,
      "outputs": [
        {
          "output_type": "stream",
          "name": "stdout",
          "text": [
            "Today's date is 8\n"
          ]
        }
      ]
    },
    {
      "cell_type": "code",
      "source": [
        "# Uncomment this\n",
        "print(f\"Today's date is {date}\")"
      ],
      "metadata": {
        "id": "soDvqAvSe3xP",
        "colab": {
          "base_uri": "https://localhost:8080/"
        },
        "outputId": "e8f336ff-d938-4504-ba9d-3b1533d68687"
      },
      "execution_count": null,
      "outputs": [
        {
          "output_type": "stream",
          "name": "stdout",
          "text": [
            "Today's date is 8\n"
          ]
        }
      ]
    },
    {
      "cell_type": "markdown",
      "source": [
        "## Container Type: List\n",
        "Lists have a dynamic size and elements can be added (appended) to, inserted to, or removed from them. Elements can also be reassigned in place."
      ],
      "metadata": {
        "id": "8RsAU8lRQVGu"
      }
    },
    {
      "cell_type": "code",
      "source": [
        "my_list = [10, 20, 30]\n",
        "print(my_list)"
      ],
      "metadata": {
        "colab": {
          "base_uri": "https://localhost:8080/"
        },
        "id": "QKAfZm-0QzcN",
        "outputId": "793e7633-e917-49be-e6ad-813c02632f7a"
      },
      "execution_count": null,
      "outputs": [
        {
          "output_type": "stream",
          "name": "stdout",
          "text": [
            "[10, 20, 30]\n"
          ]
        }
      ]
    },
    {
      "cell_type": "code",
      "source": [
        "my_list.append(50)\n",
        "print(my_list)"
      ],
      "metadata": {
        "colab": {
          "base_uri": "https://localhost:8080/"
        },
        "id": "mnKGwSbBQ5ag",
        "outputId": "d1f09516-89ee-4b3d-a573-a4f44c1dc600"
      },
      "execution_count": null,
      "outputs": [
        {
          "output_type": "stream",
          "name": "stdout",
          "text": [
            "[10, 20, 30, 50]\n"
          ]
        }
      ]
    },
    {
      "cell_type": "code",
      "source": [
        "# Access: index starts at 0\n",
        "my_list[2]"
      ],
      "metadata": {
        "colab": {
          "base_uri": "https://localhost:8080/"
        },
        "id": "VoI7xouEREHW",
        "outputId": "f58bf2e9-7505-477d-8a48-2ac3aa27287e"
      },
      "execution_count": null,
      "outputs": [
        {
          "output_type": "execute_result",
          "data": {
            "text/plain": [
              "30"
            ]
          },
          "metadata": {},
          "execution_count": 33
        }
      ]
    },
    {
      "cell_type": "code",
      "source": [
        "my_list[1]"
      ],
      "metadata": {
        "colab": {
          "base_uri": "https://localhost:8080/"
        },
        "id": "57an18E9kI35",
        "outputId": "4307f191-89da-45ea-99e1-be9b7409e465"
      },
      "execution_count": null,
      "outputs": [
        {
          "output_type": "execute_result",
          "data": {
            "text/plain": [
              "20"
            ]
          },
          "metadata": {},
          "execution_count": 36
        }
      ]
    },
    {
      "cell_type": "code",
      "source": [
        "my_list[-1]"
      ],
      "metadata": {
        "colab": {
          "base_uri": "https://localhost:8080/"
        },
        "id": "V7rSIvwaRIFz",
        "outputId": "61568417-dba5-4f92-b419-71613dcb751b"
      },
      "execution_count": null,
      "outputs": [
        {
          "output_type": "execute_result",
          "data": {
            "text/plain": [
              "50"
            ]
          },
          "metadata": {},
          "execution_count": 34
        }
      ]
    },
    {
      "cell_type": "code",
      "source": [
        "my_list.insert(2, 70)\n",
        "print(my_list)"
      ],
      "metadata": {
        "colab": {
          "base_uri": "https://localhost:8080/"
        },
        "id": "ogaA0p5sQ8R4",
        "outputId": "ddc1adf8-5ceb-465d-9b53-bb7131346ca8"
      },
      "execution_count": null,
      "outputs": [
        {
          "output_type": "stream",
          "name": "stdout",
          "text": [
            "[10, 20, 70, 30, 50]\n"
          ]
        }
      ]
    },
    {
      "cell_type": "code",
      "source": [
        "my_list.remove(30)\n",
        "print(my_list)"
      ],
      "metadata": {
        "colab": {
          "base_uri": "https://localhost:8080/"
        },
        "id": "ZB7x0omvRQju",
        "outputId": "43275ced-6d3c-4ff6-b6d7-10fefdd84d80"
      },
      "execution_count": null,
      "outputs": [
        {
          "output_type": "stream",
          "name": "stdout",
          "text": [
            "[10, 20, 70, 50]\n"
          ]
        }
      ]
    },
    {
      "cell_type": "code",
      "source": [
        "my_list[2] = 100\n",
        "print(my_list)"
      ],
      "metadata": {
        "colab": {
          "base_uri": "https://localhost:8080/"
        },
        "id": "agekuyfqVOzs",
        "outputId": "3febacb3-107f-4925-b8d5-0e19f2ad5462"
      },
      "execution_count": null,
      "outputs": [
        {
          "output_type": "stream",
          "name": "stdout",
          "text": [
            "[10, 20, 100, 50]\n"
          ]
        }
      ]
    },
    {
      "cell_type": "code",
      "source": [
        "my_list.pop(2)\n",
        "print(my_list)"
      ],
      "metadata": {
        "colab": {
          "base_uri": "https://localhost:8080/"
        },
        "id": "zAnltt0mRUvB",
        "outputId": "0440d40a-99d2-4102-d506-19ce7ddcbc2b"
      },
      "execution_count": null,
      "outputs": [
        {
          "output_type": "stream",
          "name": "stdout",
          "text": [
            "[10, 20, 50]\n"
          ]
        }
      ]
    },
    {
      "cell_type": "code",
      "source": [
        "# What will this produce?\n",
        "# my_list[3]"
      ],
      "metadata": {
        "id": "ekiDbK3vRaf_"
      },
      "execution_count": null,
      "outputs": []
    },
    {
      "cell_type": "code",
      "source": [
        "my_list += [30, 60, 70, 80]\n",
        "print(my_list)"
      ],
      "metadata": {
        "colab": {
          "base_uri": "https://localhost:8080/"
        },
        "id": "UkyJne2WSCXS",
        "outputId": "d93d6d80-2eef-4351-f2f1-54818fab10fb"
      },
      "execution_count": null,
      "outputs": [
        {
          "output_type": "stream",
          "name": "stdout",
          "text": [
            "[10, 20, 50, 30, 60, 70, 80]\n"
          ]
        }
      ]
    },
    {
      "cell_type": "code",
      "source": [
        "# Slicing with \"stop\" index will take the elements up to \"stop - 1\"\n",
        "my_list[1:4]"
      ],
      "metadata": {
        "colab": {
          "base_uri": "https://localhost:8080/"
        },
        "id": "ZQnrzGXkSSUh",
        "outputId": "2546b328-b39f-4fab-984e-563a4bb18f8d"
      },
      "execution_count": null,
      "outputs": [
        {
          "output_type": "execute_result",
          "data": {
            "text/plain": [
              "[20, 50, 30]"
            ]
          },
          "metadata": {},
          "execution_count": 43
        }
      ]
    },
    {
      "cell_type": "code",
      "source": [
        "my_list[1:]"
      ],
      "metadata": {
        "colab": {
          "base_uri": "https://localhost:8080/"
        },
        "id": "ur4UNTEXSV1x",
        "outputId": "043a9579-0f2a-489b-9a47-52d5ba9cfe21"
      },
      "execution_count": null,
      "outputs": [
        {
          "output_type": "execute_result",
          "data": {
            "text/plain": [
              "[20, 50, 30, 60, 70, 80]"
            ]
          },
          "metadata": {},
          "execution_count": 44
        }
      ]
    },
    {
      "cell_type": "code",
      "source": [
        "my_list[1:-1:2]"
      ],
      "metadata": {
        "colab": {
          "base_uri": "https://localhost:8080/"
        },
        "id": "rvaQrTVbSYM8",
        "outputId": "11f77cd9-36c1-4895-a078-1111bdd75dfd"
      },
      "execution_count": null,
      "outputs": [
        {
          "output_type": "execute_result",
          "data": {
            "text/plain": [
              "[20, 30, 70]"
            ]
          },
          "metadata": {},
          "execution_count": 45
        }
      ]
    },
    {
      "cell_type": "code",
      "source": [
        "60 in my_list"
      ],
      "metadata": {
        "colab": {
          "base_uri": "https://localhost:8080/"
        },
        "id": "otK-JEn2Sg6_",
        "outputId": "bf80a7e5-20b2-46dc-ab83-64a9a9cd91da"
      },
      "execution_count": null,
      "outputs": [
        {
          "output_type": "execute_result",
          "data": {
            "text/plain": [
              "True"
            ]
          },
          "metadata": {},
          "execution_count": 46
        }
      ]
    },
    {
      "cell_type": "code",
      "source": [
        "len(my_list)"
      ],
      "metadata": {
        "colab": {
          "base_uri": "https://localhost:8080/"
        },
        "id": "M4MztLgLSjic",
        "outputId": "5e6e27c3-95d2-4476-8ecf-a5caac8ac3ff"
      },
      "execution_count": null,
      "outputs": [
        {
          "output_type": "execute_result",
          "data": {
            "text/plain": [
              "7"
            ]
          },
          "metadata": {},
          "execution_count": 47
        }
      ]
    },
    {
      "cell_type": "code",
      "source": [
        "# Tip: create a list with range\n",
        "my_list = list(range(10)) # n -1\n",
        "print(my_list)"
      ],
      "metadata": {
        "colab": {
          "base_uri": "https://localhost:8080/"
        },
        "id": "j7z82FM_wdhC",
        "outputId": "2ce90032-0caa-4c85-911d-be9bfd779a49"
      },
      "execution_count": null,
      "outputs": [
        {
          "output_type": "stream",
          "name": "stdout",
          "text": [
            "[0, 1, 2, 3, 4, 5, 6, 7, 8, 9]\n"
          ]
        }
      ]
    },
    {
      "cell_type": "code",
      "source": [
        "# range(start, stop, step)\n",
        "my_list = list(range(2,20,3))\n",
        "print(my_list)"
      ],
      "metadata": {
        "colab": {
          "base_uri": "https://localhost:8080/"
        },
        "id": "p9lvz1H8wj9-",
        "outputId": "d27201d0-8e4e-42ed-e14b-fd5be43cd989"
      },
      "execution_count": null,
      "outputs": [
        {
          "output_type": "stream",
          "name": "stdout",
          "text": [
            "[2, 5, 8, 11, 14, 17]\n"
          ]
        }
      ]
    },
    {
      "cell_type": "markdown",
      "source": [
        "### Exercise: Lists\n",
        "Print the list or output every step.\n",
        "1. Create a list `x` with elements `10, 20, 30, 40, 50`\n",
        "2. Check if `35` is an element in the list. Output either `True` or `False`\n",
        "3. Extract another list from `x` with elements `20, 40` using the list access notation `[]`.\n",
        "4. Remove `30` from the list.\n",
        "5. Assign `40` to be `\"N/A\"` instead.\n",
        "6. Remove the last element from the list, without specifying the element to remove (but you can specify the _location_)."
      ],
      "metadata": {
        "id": "czqeGl1bSpQs"
      }
    },
    {
      "cell_type": "code",
      "source": [
        "# Your code here (you may create multiple cells)\n",
        "#x = my_list\n",
        "my_list = [10, 20, 30, 40, 50]\n",
        "x = my_list\n",
        "print(x)"
      ],
      "metadata": {
        "colab": {
          "base_uri": "https://localhost:8080/"
        },
        "id": "fQy7thDhSomG",
        "outputId": "089f6dcd-539e-4077-fcce-388514219c47"
      },
      "execution_count": null,
      "outputs": [
        {
          "output_type": "stream",
          "name": "stdout",
          "text": [
            "[10, 20, 30, 40, 50]\n"
          ]
        }
      ]
    },
    {
      "cell_type": "code",
      "source": [
        "#Check if 35 is an element in the list. Output either True or False\n",
        "35 in x"
      ],
      "metadata": {
        "colab": {
          "base_uri": "https://localhost:8080/"
        },
        "id": "DSB4miL0qOrk",
        "outputId": "22f7391d-00c5-4cd2-d428-28d37d42e531"
      },
      "execution_count": null,
      "outputs": [
        {
          "output_type": "execute_result",
          "data": {
            "text/plain": [
              "False"
            ]
          },
          "metadata": {},
          "execution_count": 64
        }
      ]
    },
    {
      "cell_type": "code",
      "source": [
        "#Extract another list from x with elements 20, 40 using the list access notation [].\n",
        "x [1:4:2]"
      ],
      "metadata": {
        "colab": {
          "base_uri": "https://localhost:8080/"
        },
        "id": "dzwrNrinqaKI",
        "outputId": "0045147f-efdc-42c5-96d4-49e2d83eca2e"
      },
      "execution_count": null,
      "outputs": [
        {
          "output_type": "execute_result",
          "data": {
            "text/plain": [
              "[20, 40]"
            ]
          },
          "metadata": {},
          "execution_count": 65
        }
      ]
    },
    {
      "cell_type": "code",
      "source": [
        "#Remove 30 from the list.\n",
        "x.remove(30)\n",
        "print(x)"
      ],
      "metadata": {
        "colab": {
          "base_uri": "https://localhost:8080/"
        },
        "id": "WhGsTWIQrFrE",
        "outputId": "aba16ade-faae-49da-e16b-cd442b1a7f14"
      },
      "execution_count": null,
      "outputs": [
        {
          "output_type": "stream",
          "name": "stdout",
          "text": [
            "[10, 20, 40, 50]\n"
          ]
        }
      ]
    },
    {
      "cell_type": "code",
      "source": [
        "#Assign 40 to be \"N/A\" instead.\n",
        "x[2] = \"N/A\"\n",
        "print(x)"
      ],
      "metadata": {
        "colab": {
          "base_uri": "https://localhost:8080/"
        },
        "id": "OpkexBTXrtV5",
        "outputId": "6abeccb7-c50e-4662-eb09-a5a5b3950cc2"
      },
      "execution_count": null,
      "outputs": [
        {
          "output_type": "stream",
          "name": "stdout",
          "text": [
            "[10, 20, 'N/A', 50]\n"
          ]
        }
      ]
    },
    {
      "cell_type": "code",
      "source": [
        "#Remove the last element from the list, without specifying the element to remove (but you can specify the location)\n",
        "x = [10, 20, 'N/A', 50]\n",
        "x.pop(-1)"
      ],
      "metadata": {
        "colab": {
          "base_uri": "https://localhost:8080/"
        },
        "id": "6LoxfBINspeU",
        "outputId": "41d83900-0953-41ce-bb1c-70626730c6e7"
      },
      "execution_count": null,
      "outputs": [
        {
          "output_type": "execute_result",
          "data": {
            "text/plain": [
              "50"
            ]
          },
          "metadata": {},
          "execution_count": 69
        }
      ]
    },
    {
      "cell_type": "markdown",
      "source": [
        "## Strings\n",
        "Strings are used to store text. They can be delimited using either single quotes `''` or double quotes `\"\"`. \n",
        "\n",
        "Strings behave similarly to lists. As such we can access individual elements in exactly the same way."
      ],
      "metadata": {
        "id": "8ZjELYDAYvrs"
      }
    },
    {
      "cell_type": "code",
      "source": [
        "# Example: concatenation\n",
        "x = \"Hello \"\n",
        "y = \"World!\"\n",
        "\n",
        "# This works just like lists: you just glue the two \"lists\" together!\n",
        "print(x + y)"
      ],
      "metadata": {
        "colab": {
          "base_uri": "https://localhost:8080/"
        },
        "id": "-AOlet4YwN5E",
        "outputId": "8280cc2d-b610-4817-bd8d-e8e7e36fc5fb"
      },
      "execution_count": null,
      "outputs": [
        {
          "output_type": "stream",
          "name": "stdout",
          "text": [
            "Hello World!\n"
          ]
        }
      ]
    },
    {
      "cell_type": "markdown",
      "source": [
        "### Exercise: Strings\n",
        "Create a string `x` with `\"Hello World!\"`. Then:\n",
        "1. Find out the length of `x` with `len`.\n",
        "2. Check if `\"lo\"` is part of `x`.\n",
        "3. Extract substring `\"ello\"` from `x`\n",
        "4. Extract substring `\"l ol\"` from `x`."
      ],
      "metadata": {
        "id": "7l0RjE44Zm8l"
      }
    },
    {
      "cell_type": "code",
      "source": [
        "# Your code here (you may create multiple cells)\n",
        "c = \"Hello World!\"\n",
        "print(len(x))\n",
        "\n",
        "print(\"lo\" in x)\n",
        "\n",
        "print(x[1:5])\n",
        "\n",
        "print(x[3:6:2] + x[7:10:2])"
      ],
      "metadata": {
        "colab": {
          "base_uri": "https://localhost:8080/"
        },
        "id": "dK1RthprZOaV",
        "outputId": "9f68a15d-68d0-4953-ec8a-11c2bfa69794"
      },
      "execution_count": null,
      "outputs": [
        {
          "output_type": "stream",
          "name": "stdout",
          "text": [
            "12\n",
            "True\n",
            "ello\n",
            "l ol\n"
          ]
        }
      ]
    },
    {
      "cell_type": "code",
      "source": [
        "print(\"12 \\nTrue\\nello\\nl ol\")"
      ],
      "metadata": {
        "colab": {
          "base_uri": "https://localhost:8080/"
        },
        "id": "Z_VFu6NI1KXI",
        "outputId": "2943c36e-f62d-41b2-f258-56946e37395c"
      },
      "execution_count": null,
      "outputs": [
        {
          "output_type": "stream",
          "name": "stdout",
          "text": [
            "12 \n",
            "True\n",
            "ello\n",
            "l ol\n"
          ]
        }
      ]
    },
    {
      "cell_type": "markdown",
      "source": [
        "## Dictionaries\n",
        "Dictionaries can be used as some sort of a lookup table, which is useful in many real-world scenarios. For example, you may want to store sales by region.\n",
        "\n",
        "Dictionaries consist of two parts: \"keys\" and \"values\". If you create a dictionary where you can lookup sales by region, the regions are keys and sales numbers are values."
      ],
      "metadata": {
        "id": "YQ4L839dxUzI"
      }
    },
    {
      "cell_type": "code",
      "source": [
        "sales = {\"North\": 1000,\n",
        "         \"West\": 2000,\n",
        "         \"South\": 2500,\n",
        "         \"East\": 1800}\n",
        "print(sales)"
      ],
      "metadata": {
        "colab": {
          "base_uri": "https://localhost:8080/"
        },
        "id": "5hWnO1G2zGSx",
        "outputId": "79ee6706-16bc-495e-c49a-3aeb6e320b38"
      },
      "execution_count": null,
      "outputs": [
        {
          "output_type": "stream",
          "name": "stdout",
          "text": [
            "{'North': 1000, 'West': 2000, 'South': 2500, 'East': 1800}\n"
          ]
        }
      ]
    },
    {
      "cell_type": "code",
      "source": [
        "# Access\n",
        "sales[\"North\"]"
      ],
      "metadata": {
        "colab": {
          "base_uri": "https://localhost:8080/"
        },
        "id": "NKMejl_1zRn_",
        "outputId": "7e7569ba-a6a6-400f-c537-12a3956fff87"
      },
      "execution_count": null,
      "outputs": [
        {
          "output_type": "execute_result",
          "data": {
            "text/plain": [
              "1000"
            ]
          },
          "metadata": {},
          "execution_count": 3
        }
      ]
    },
    {
      "cell_type": "code",
      "source": [
        "sales.keys()"
      ],
      "metadata": {
        "colab": {
          "base_uri": "https://localhost:8080/"
        },
        "id": "NpaUZJuCzUDj",
        "outputId": "d0e8cc1d-7e26-4586-9929-69add9c2ce20"
      },
      "execution_count": null,
      "outputs": [
        {
          "output_type": "execute_result",
          "data": {
            "text/plain": [
              "dict_keys(['North', 'West', 'South', 'East'])"
            ]
          },
          "metadata": {},
          "execution_count": 6
        }
      ]
    },
    {
      "cell_type": "code",
      "source": [
        "sales.values()"
      ],
      "metadata": {
        "colab": {
          "base_uri": "https://localhost:8080/"
        },
        "id": "lg9X7bd9zVja",
        "outputId": "2c834535-bb7a-4cac-a7cb-87d56f8c0a86"
      },
      "execution_count": null,
      "outputs": [
        {
          "output_type": "execute_result",
          "data": {
            "text/plain": [
              "dict_values([1000, 2000, 2500, 1800])"
            ]
          },
          "metadata": {},
          "execution_count": 38
        }
      ]
    },
    {
      "cell_type": "code",
      "source": [
        "# Iteration\n",
        "for (k, v) in sales.items():\n",
        "  print(\"Sales in \" + k + \" region is \" + str(v))"
      ],
      "metadata": {
        "colab": {
          "base_uri": "https://localhost:8080/"
        },
        "id": "FMY5ELRezW79",
        "outputId": "e44304ee-cf35-40a7-b477-a8366d4dcac3"
      },
      "execution_count": null,
      "outputs": [
        {
          "output_type": "stream",
          "name": "stdout",
          "text": [
            "Sales in North region is 1000\n",
            "Sales in West region is 2000\n",
            "Sales in South region is 2500\n",
            "Sales in East region is 1800\n"
          ]
        }
      ]
    },
    {
      "cell_type": "code",
      "source": [
        "# Assignment / Replacement\n",
        "sales[\"North\"] = 1500\n",
        "sales[\"Central\"] = 2800\n",
        "print(sales)"
      ],
      "metadata": {
        "colab": {
          "base_uri": "https://localhost:8080/"
        },
        "id": "aq0m2z5Gzx8k",
        "outputId": "b14aa7b0-4b0f-41dc-c1a3-a034b340d572"
      },
      "execution_count": null,
      "outputs": [
        {
          "output_type": "stream",
          "name": "stdout",
          "text": [
            "{'North': 1500, 'West': 2000, 'South': 2500, 'East': 1800, 'Central': 2800}\n"
          ]
        }
      ]
    },
    {
      "cell_type": "markdown",
      "source": [
        "### Exercise: Dictionary\n",
        "1. Create a dictionary called `inventory` from the following dataset. Use names as keys.\n",
        "\n",
        "<center>\n",
        "\n",
        "|Name |Quantity|\n",
        "|-----|--------|\n",
        "|Apple|3       |\n",
        "|Egg  |12      |\n",
        "|Orange  |30      |\n",
        "|Bread  |25      |\n",
        "\n",
        "</center>\n",
        "\n",
        "2. What's the quantity of `Egg` in our inventory?\n",
        "3. List all the products we have.\n",
        "4. Increment the quantity of `Orange` by 15.\n",
        "5. Log the new inventory where we have `Jelly` with quantity 22. Print the dict."
      ],
      "metadata": {
        "id": "lD_-XgmKagJf"
      }
    },
    {
      "cell_type": "code",
      "source": [
        "#Create a dictionary called inventory from the following dataset. Use names as keys.\n",
        "data = [\n",
        "    {\"Name\": \"Apple\", \"Quantity\": 3},\n",
        "    {\"Name\": \"Egg\", \"Quantity\": 12},\n",
        "    {\"Name\": \"Orange\", \"Quantity\": 30},\n",
        "    {\"Name\": \"Bread\", \"Quantity\": 25}\n",
        "]\n",
        "\n",
        "inventory = {item[\"Name\"]: item[\"Quantity\"] for item in data}\n",
        "print(inventory)"
      ],
      "metadata": {
        "id": "lpIJAtbAahMg",
        "colab": {
          "base_uri": "https://localhost:8080/"
        },
        "outputId": "3d4c4b2d-d43e-497d-8bb0-fb9a0deca4be"
      },
      "execution_count": null,
      "outputs": [
        {
          "output_type": "stream",
          "name": "stdout",
          "text": [
            "{'Apple': 3, 'Egg': 12, 'Orange': 30, 'Bread': 25}\n"
          ]
        }
      ]
    },
    {
      "cell_type": "code",
      "source": [
        "# What's the quantity of `Egg` in our inventory?\n",
        "egg_quantity = inventory[\"Egg\"]\n",
        "print(egg_quantity)"
      ],
      "metadata": {
        "colab": {
          "base_uri": "https://localhost:8080/"
        },
        "id": "yPFJ6yZL6euU",
        "outputId": "c57bec9c-3c5e-488f-b796-70e0036c3118"
      },
      "execution_count": null,
      "outputs": [
        {
          "output_type": "stream",
          "name": "stdout",
          "text": [
            "12\n"
          ]
        }
      ]
    },
    {
      "cell_type": "code",
      "source": [
        "#List all the products we have.\n",
        "products = list(inventory.keys())\n",
        "print(products)"
      ],
      "metadata": {
        "colab": {
          "base_uri": "https://localhost:8080/"
        },
        "id": "hTd4mZwF6pA6",
        "outputId": "9efc5d5d-dbfb-4d5f-c3f1-e6241bc8cf39"
      },
      "execution_count": null,
      "outputs": [
        {
          "output_type": "stream",
          "name": "stdout",
          "text": [
            "['Apple', 'Egg', 'Orange', 'Bread']\n"
          ]
        }
      ]
    },
    {
      "cell_type": "code",
      "source": [
        "#Increment the quantity of Orange by 15.\n",
        "inventory[\"Orange\"] += 15\n",
        "print(inventory)"
      ],
      "metadata": {
        "colab": {
          "base_uri": "https://localhost:8080/"
        },
        "id": "22BdD3W06wNl",
        "outputId": "d079f88a-3276-4398-e302-5b74a957f552"
      },
      "execution_count": null,
      "outputs": [
        {
          "output_type": "stream",
          "name": "stdout",
          "text": [
            "{'Apple': 3, 'Egg': 12, 'Orange': 45, 'Bread': 25}\n"
          ]
        }
      ]
    },
    {
      "cell_type": "code",
      "source": [
        "#Log the new inventory where we have Jelly with quantity 22. Print the dict.\n",
        "inventory[\"Jelly\"] = 22\n",
        "print(inventory)"
      ],
      "metadata": {
        "colab": {
          "base_uri": "https://localhost:8080/"
        },
        "id": "lDmpr4oZ66ac",
        "outputId": "4f9cd482-d1a6-446c-c1cd-baca89152b74"
      },
      "execution_count": null,
      "outputs": [
        {
          "output_type": "stream",
          "name": "stdout",
          "text": [
            "{'Apple': 3, 'Egg': 12, 'Orange': 45, 'Bread': 25, 'Jelly': 22}\n"
          ]
        }
      ]
    },
    {
      "cell_type": "markdown",
      "source": [
        "## Control Flow\n",
        "You can write code that may execute diffently depending on certain _condition(s)_. Here we discuss boolean data types, boolean operations, and `if` statements."
      ],
      "metadata": {
        "id": "EVOV7pIyKVe2"
      }
    },
    {
      "cell_type": "code",
      "source": [
        "# Assign 10 to x\n",
        "x = 10\n",
        "\n",
        "# Assign 20 to y\n",
        "y = 20"
      ],
      "metadata": {
        "id": "NHpTbADbKuay"
      },
      "execution_count": null,
      "outputs": []
    },
    {
      "cell_type": "code",
      "source": [
        "# Compare if 10 equals x\n",
        "print(x == 10)\n",
        "\n",
        "# Compare if y is greater than 25\n",
        "print(y > 25)"
      ],
      "metadata": {
        "colab": {
          "base_uri": "https://localhost:8080/"
        },
        "id": "wWpzDD8kK28K",
        "outputId": "e86a26f0-8e4b-4553-db78-d4f678a9a72e"
      },
      "execution_count": null,
      "outputs": [
        {
          "output_type": "stream",
          "name": "stdout",
          "text": [
            "True\n",
            "False\n"
          ]
        }
      ]
    },
    {
      "cell_type": "code",
      "source": [
        "# Logical operators & Order of Precedence\n",
        "print(not(x > 10) or (y < 20))\n",
        "print((x == 10) or (y < 25) and (y > 25))\n",
        "print(((x == 10) or (y < 25)) and (y > 25))"
      ],
      "metadata": {
        "colab": {
          "base_uri": "https://localhost:8080/"
        },
        "id": "5XPeHxV-LLm3",
        "outputId": "78b7a2c7-47fe-4bb4-ce0b-2c34664ceeae"
      },
      "execution_count": null,
      "outputs": [
        {
          "output_type": "stream",
          "name": "stdout",
          "text": [
            "True\n",
            "True\n",
            "False\n"
          ]
        }
      ]
    },
    {
      "cell_type": "code",
      "source": [
        "if x > 10:\n",
        "  print(\"The value of x is greater than 10\")\n",
        "else:\n",
        "  print(\"The value of x is less than or equal to 10\")"
      ],
      "metadata": {
        "colab": {
          "base_uri": "https://localhost:8080/"
        },
        "id": "VYoTvVQ-MYh5",
        "outputId": "9c16914a-26b0-46a2-e71f-9ae0eff65f3c"
      },
      "execution_count": null,
      "outputs": [
        {
          "output_type": "stream",
          "name": "stdout",
          "text": [
            "The value of x is less than or equal to 10\n"
          ]
        }
      ]
    },
    {
      "cell_type": "code",
      "source": [
        "if x > 12:\n",
        "  print(\"Great score!\")\n",
        "elif x > 8:\n",
        "  print(\"Good score!\")\n",
        "else:\n",
        "  print(\"Try again!\")"
      ],
      "metadata": {
        "colab": {
          "base_uri": "https://localhost:8080/"
        },
        "id": "GumEIMQIMo_M",
        "outputId": "c51e2964-7143-4d99-89d0-352a41426131"
      },
      "execution_count": null,
      "outputs": [
        {
          "output_type": "stream",
          "name": "stdout",
          "text": [
            "Good score!\n"
          ]
        }
      ]
    },
    {
      "cell_type": "code",
      "source": [
        "tier = \"None\"\n",
        "spending = 700\n",
        "\n",
        "if spending <= 200:\n",
        "  tier = \"Emerald\"\n",
        "elif spending <= 600:\n",
        "  tier = \"Gold\"\n",
        "else:\n",
        "  tier = \"Platinum\"\n",
        "\n",
        "print(\"Your tier:\", tier)"
      ],
      "metadata": {
        "colab": {
          "base_uri": "https://localhost:8080/"
        },
        "id": "26GpjqWMdolR",
        "outputId": "e3920005-550b-4339-c71a-50e8a75ce76c"
      },
      "execution_count": 44,
      "outputs": [
        {
          "output_type": "stream",
          "name": "stdout",
          "text": [
            "Your tier: Emerald\n"
          ]
        }
      ]
    },
    {
      "cell_type": "markdown",
      "source": [
        "### Exercise: Control Flow\n",
        "Write a simple program that calculates your salesperson's compensation. Take an input from user's keyboard (hint: use `input()`), convert that input to an integer `x`. This is your salesperson's total sales this month. \n",
        "\n",
        "- If `x` is greater than `15000`, display `\"Your compensation this month is \"` followed by 10% of `x`. \n",
        "- If `x` is between `5000` and `15000` inclusive, display `\"Your compensation this month is \"` followed by 5% of `x`.\n",
        "- Otherwise, display `\"Your compensation this month is 250\"`.\n"
      ],
      "metadata": {
        "id": "QVelnq7LM-Ej"
      }
    },
    {
      "cell_type": "code",
      "source": [
        "#If x is greater than 15000, display \"Your compensation this month is \" followed by 10% of x.\n",
        "# Your code here\n",
        "x = int(input(\"Enter your total sales this month: \"))\n",
        "\n",
        "if x > 15000:\n",
        "    compensation = 0.1 * x\n",
        "    print(\"Your compensation this month is\", compensation)"
      ],
      "metadata": {
        "colab": {
          "base_uri": "https://localhost:8080/"
        },
        "id": "lS7OSMLINydQ",
        "outputId": "68dcf0d6-ec52-473f-83a3-4a0c7c94d05c"
      },
      "execution_count": 51,
      "outputs": [
        {
          "output_type": "stream",
          "name": "stdout",
          "text": [
            "Enter your total sales this month: 20000\n",
            "Your compensation this month is 2000.0\n"
          ]
        }
      ]
    },
    {
      "cell_type": "code",
      "source": [
        "#If x is between 5000 and 15000 inclusive, display \"Your compensation this month is \" followed by 5% of x.\n",
        "# Your code here\n",
        "x = int(input(\"Enter your total sales this month: \"))\n",
        "\n",
        "if 5000 <= x <= 15000:\n",
        "    compensation = 0.05 * x\n",
        "    print(\"Your compensation this month is\", compensation)"
      ],
      "metadata": {
        "colab": {
          "base_uri": "https://localhost:8080/"
        },
        "id": "W8bkwyANYU6J",
        "outputId": "5442234d-c714-4b5f-bc69-7f4ecaa98df0"
      },
      "execution_count": 55,
      "outputs": [
        {
          "output_type": "stream",
          "name": "stdout",
          "text": [
            "Enter your total sales this month: 6000\n",
            "Your compensation this month is 300.0\n"
          ]
        }
      ]
    },
    {
      "cell_type": "code",
      "source": [
        "#Otherwise, display \"Your compensation this month is 250\".\n",
        "# Your code here\n",
        "x = int(input(\"Enter your total sales this month: \"))\n",
        "\n",
        "if 5000 <= x <= 15000:\n",
        "    compensation = 0.05 * x\n",
        "    print(\"Your compensation this month is\", compensation)\n",
        "else:\n",
        "    print(\"Your compensation this month is 250\")\n"
      ],
      "metadata": {
        "colab": {
          "base_uri": "https://localhost:8080/"
        },
        "id": "Pr8tJJ3eYzCI",
        "outputId": "000ea9af-0783-4003-8534-8cf7fac7e24d"
      },
      "execution_count": 48,
      "outputs": [
        {
          "output_type": "stream",
          "name": "stdout",
          "text": [
            "Enter your total sales this month: 2222\n",
            "Your compensation this month is 250\n"
          ]
        }
      ]
    },
    {
      "cell_type": "code",
      "source": [
        "x = int(input(\"Enter your total sales this month: \"))\n",
        "\n",
        "if x > 15000:\n",
        "    #compensation = 0.1 * x\n",
        "    print(\"Your compensation this month is 10% : \"+str(x*0.5))\n",
        "elif 5000 <= x <= 15000:\n",
        "    compensation = 0.05 * x\n",
        "    print(\"Your compensation this month is 5% :\", compensation)\n",
        "else:\n",
        "    print(\"Your compensation this month is 250 :\")"
      ],
      "metadata": {
        "colab": {
          "base_uri": "https://localhost:8080/"
        },
        "id": "M_szstc8dZ9Y",
        "outputId": "9870cc69-bd42-4dea-d161-88e9522c8b57"
      },
      "execution_count": 64,
      "outputs": [
        {
          "output_type": "stream",
          "name": "stdout",
          "text": [
            "Enter your total sales this month: 150111\n",
            "Your compensation this month is 10% : 75055.5\n"
          ]
        }
      ]
    },
    {
      "cell_type": "markdown",
      "source": [
        "## Loops\n",
        "You can write code that performs repetitive tasks without having to write the same code many times."
      ],
      "metadata": {
        "id": "PRVsYXHxSjwv"
      }
    },
    {
      "cell_type": "code",
      "source": [
        "x = \"Hello World!\"\n",
        "for character in x:\n",
        "  print(character)"
      ],
      "metadata": {
        "colab": {
          "base_uri": "https://localhost:8080/"
        },
        "id": "mJHQ1G7JSx3R",
        "outputId": "1b1f790a-87ae-4c86-8b8d-ecd39e4c11ec"
      },
      "execution_count": 8,
      "outputs": [
        {
          "output_type": "stream",
          "name": "stdout",
          "text": [
            "H\n",
            "e\n",
            "l\n",
            "l\n",
            "o\n",
            " \n",
            "W\n",
            "o\n",
            "r\n",
            "l\n",
            "d\n",
            "!\n"
          ]
        }
      ]
    },
    {
      "cell_type": "code",
      "source": [
        "for number in [0, 1, 2, 3, 4]:\n",
        "  print(number)"
      ],
      "metadata": {
        "colab": {
          "base_uri": "https://localhost:8080/"
        },
        "id": "rZ-CgcovS9zy",
        "outputId": "15917c5d-0a69-4fb2-f0ff-eed06c444ce9"
      },
      "execution_count": null,
      "outputs": [
        {
          "output_type": "stream",
          "name": "stdout",
          "text": [
            "0\n",
            "1\n",
            "2\n",
            "3\n",
            "4\n"
          ]
        }
      ]
    },
    {
      "cell_type": "code",
      "source": [
        "for number in range(10):\n",
        "  print(number)"
      ],
      "metadata": {
        "colab": {
          "base_uri": "https://localhost:8080/"
        },
        "id": "fek7kUXMS4yl",
        "outputId": "39b1dc03-7966-4591-e310-6eb4a15a667f"
      },
      "execution_count": null,
      "outputs": [
        {
          "output_type": "stream",
          "name": "stdout",
          "text": [
            "0\n",
            "1\n",
            "2\n",
            "3\n",
            "4\n",
            "5\n",
            "6\n",
            "7\n",
            "8\n",
            "9\n"
          ]
        }
      ]
    },
    {
      "cell_type": "code",
      "source": [
        "# Iterate over each element in a list, using indices\n",
        "index = 0\n",
        "numbers = list(range(10))\n",
        "while (index < len(numbers)):\n",
        "  print(numbers[index])\n",
        "  index += 1"
      ],
      "metadata": {
        "colab": {
          "base_uri": "https://localhost:8080/"
        },
        "id": "dwVKQ5G3TBWB",
        "outputId": "c7575539-681e-4eee-c443-b34829f03d73"
      },
      "execution_count": null,
      "outputs": [
        {
          "output_type": "stream",
          "name": "stdout",
          "text": [
            "0\n",
            "1\n",
            "2\n",
            "3\n",
            "4\n",
            "5\n",
            "6\n",
            "7\n",
            "8\n",
            "9\n"
          ]
        }
      ]
    },
    {
      "cell_type": "code",
      "source": [
        "# Dictionary iteration, revisited\n",
        "for (k, v) in sales.items():\n",
        "  print(\"Sales in \" + k + \" region is \" + str(v))\n"
      ],
      "metadata": {
        "colab": {
          "base_uri": "https://localhost:8080/"
        },
        "id": "7zxAGd8rTpxr",
        "outputId": "3af1fb86-e53a-4d7b-ddd2-e218c7cf45f0"
      },
      "execution_count": null,
      "outputs": [
        {
          "output_type": "stream",
          "name": "stdout",
          "text": [
            "Sales in North region is 1500\n",
            "Sales in West region is 2000\n",
            "Sales in South region is 2500\n",
            "Sales in East region is 1800\n",
            "Sales in Central region is 2800\n"
          ]
        }
      ]
    },
    {
      "cell_type": "markdown",
      "source": [
        "### Exercises: Loops\n",
        "#### Exercise LOOP.1\n",
        "Calculate the sum of numbers 1, 2, ..., 1000.\n",
        "\n",
        "#### Exercise LOOP.2\n",
        "Calculate the sum of odd numbers from 1, 2, ..., 1000\n",
        "\n",
        "#### Exercise LOOP.3\n",
        "Given the `sales` dictionary defined above, calculate total sales from all regions.\n",
        "\n"
      ],
      "metadata": {
        "id": "0VC394KkT-Ar"
      }
    },
    {
      "cell_type": "code",
      "source": [
        "#Exercise LOOP.1\n",
        "#Calculate the sum of numbers 1, 2, ..., 1000.\n",
        "# Your code here\n",
        "sum = 0\n",
        "for i in range(1001):\n",
        "    sum += i\n",
        "print(sum,i)"
      ],
      "metadata": {
        "id": "Jpwic79JUo1k",
        "colab": {
          "base_uri": "https://localhost:8080/"
        },
        "outputId": "ebd1a14a-36a2-468f-cf58-f749a977b192"
      },
      "execution_count": 65,
      "outputs": [
        {
          "output_type": "stream",
          "name": "stdout",
          "text": [
            "500500 1000\n"
          ]
        }
      ]
    },
    {
      "cell_type": "code",
      "source": [
        "sum = 0 \n",
        "number = 1\n",
        "while number <=1000:\n",
        "  sum += number\n",
        "  number += 1\n",
        "print(sum)"
      ],
      "metadata": {
        "colab": {
          "base_uri": "https://localhost:8080/"
        },
        "id": "enESU1_auZEG",
        "outputId": "7a0493d6-7d90-496c-8d86-5d6636682672"
      },
      "execution_count": 83,
      "outputs": [
        {
          "output_type": "stream",
          "name": "stdout",
          "text": [
            "500500\n"
          ]
        }
      ]
    },
    {
      "cell_type": "code",
      "source": [
        "#Exercise LOOP.2\n",
        "#Calculate the sum of odd numbers from 1, 2, ..., 1000\n",
        "# Your code here\n",
        "sum = 0\n",
        "for i in range(1,1001, 2):\n",
        "    sum += i\n",
        "print(sum,i)"
      ],
      "metadata": {
        "id": "-pXDp-v4U3Sp",
        "colab": {
          "base_uri": "https://localhost:8080/"
        },
        "outputId": "37533a0f-525e-4ac6-90d2-ee441af887ad"
      },
      "execution_count": 84,
      "outputs": [
        {
          "output_type": "stream",
          "name": "stdout",
          "text": [
            "250000 999\n"
          ]
        }
      ]
    },
    {
      "cell_type": "code",
      "source": [
        "sum = 0\n",
        "for i in range(1001):\n",
        "  if i % 2 == 1:\n",
        "    sum += i\n",
        "print(sum,i)"
      ],
      "metadata": {
        "colab": {
          "base_uri": "https://localhost:8080/"
        },
        "id": "Rq1Di2jfvEaO",
        "outputId": "1bfa1ac1-0b5d-4041-b761-a49c25e9ef5d"
      },
      "execution_count": 85,
      "outputs": [
        {
          "output_type": "stream",
          "name": "stdout",
          "text": [
            "250000 1000\n"
          ]
        }
      ]
    },
    {
      "cell_type": "code",
      "source": [
        "sum = 0 \n",
        "number = 1\n",
        "while number <=999:\n",
        "  sum += number\n",
        "  number += 2\n",
        "print(sum , number)"
      ],
      "metadata": {
        "colab": {
          "base_uri": "https://localhost:8080/"
        },
        "id": "rBLAz6x5vU-F",
        "outputId": "d53f731c-cadf-4509-d9ed-7756eb758509"
      },
      "execution_count": 87,
      "outputs": [
        {
          "output_type": "stream",
          "name": "stdout",
          "text": [
            "250000 1001\n"
          ]
        }
      ]
    },
    {
      "cell_type": "code",
      "source": [
        "#Exercise LOOP.3\n",
        "#Given the sales dictionary defined above, calculate total sales from all regions.\n",
        "# Your code here\n",
        "#sales = {\"North\": 1000,\n",
        "#         \"West\": 2000,\n",
        "#         \"South\": 2500,\n",
        "#         \"East\": 1800}\n",
        "\n",
        "sum = 0\n",
        "for i in sales.values():\n",
        "  sum = sum + i\n",
        "\n",
        "print(\"Given the sales dictionary defined above, calculate total sales from all regions : \",sum)"
      ],
      "metadata": {
        "id": "gpGlBFqWU-_3",
        "colab": {
          "base_uri": "https://localhost:8080/"
        },
        "outputId": "3aa85296-9f3f-4ece-8258-ad55f1eca84c"
      },
      "execution_count": 88,
      "outputs": [
        {
          "output_type": "stream",
          "name": "stdout",
          "text": [
            "Given the sales dictionary defined above, calculate total sales from all regions :  7300\n"
          ]
        }
      ]
    },
    {
      "cell_type": "markdown",
      "source": [
        "## Functions\n",
        "To improve code readability, it is common to separate the code into different blocks, responsible for performing precise actions: functions. \n",
        "\n",
        "A function takes some inputs and process them to return some outputs."
      ],
      "metadata": {
        "id": "BcyCF6q2lQWK"
      }
    },
    {
      "cell_type": "code",
      "source": [
        "# A simple function that can be reused\n",
        "def square(x):\n",
        "  \"\"\"Returns the squared input.\"\"\"\n",
        "  return x * x\n",
        "\n",
        "# A function can call another function\n",
        "# docsting \n",
        "def sum_squared(numbers):\n",
        "  \"\"\"Returns the sum of squared elements in input.\n",
        "  \n",
        "  Parameters\n",
        "  ----------\n",
        "  numbers: list\n",
        "    a list of numbers\n",
        "  \"\"\"\n",
        "  sum = 0\n",
        "  for number in numbers:\n",
        "    sum += square(number)\n",
        "  return sum"
      ],
      "metadata": {
        "id": "hSF4wjntXLsn"
      },
      "execution_count": 69,
      "outputs": []
    },
    {
      "cell_type": "code",
      "source": [
        "result = square(10)\n",
        "print(result)"
      ],
      "metadata": {
        "colab": {
          "base_uri": "https://localhost:8080/"
        },
        "id": "DOs95VQ5x6rN",
        "outputId": "d128148f-ed82-427c-8e4a-62e619210daf"
      },
      "execution_count": 89,
      "outputs": [
        {
          "output_type": "stream",
          "name": "stdout",
          "text": [
            "100\n"
          ]
        }
      ]
    },
    {
      "cell_type": "code",
      "source": [
        "#[2, -1, 4]\n",
        "# (2*2 , (-1)*(-1) , 4*4)"
      ],
      "metadata": {
        "id": "lACDJTHlyGu8"
      },
      "execution_count": null,
      "outputs": []
    },
    {
      "cell_type": "code",
      "source": [
        "# Expect to see 21\n",
        "samples = [2, -1, 4]\n",
        "sum_squared(samples)"
      ],
      "metadata": {
        "colab": {
          "base_uri": "https://localhost:8080/"
        },
        "id": "tZZ7yt4TXry_",
        "outputId": "bb651897-3c30-4ded-e9ad-f5ca62e60b2f"
      },
      "execution_count": 70,
      "outputs": [
        {
          "output_type": "execute_result",
          "data": {
            "text/plain": [
              "21"
            ]
          },
          "metadata": {},
          "execution_count": 70
        }
      ]
    },
    {
      "cell_type": "markdown",
      "source": [
        "### Exercises: Functions"
      ],
      "metadata": {
        "id": "O2Sp6uO3YMrD"
      }
    },
    {
      "cell_type": "markdown",
      "source": [
        "#### Exercise FUNC.1\n",
        "Write the [relu](https://en.wikipedia.org/wiki/Rectifier_(neural_networks)) function defined as follows:\n",
        "\n",
        "$\\text{relu}(x) = \\left\\{\n",
        "   \\begin{array}{rl}\n",
        "     x, & \\text{if }  x \\ge 0 \\\\\n",
        "     0, & \\text{otherwise }.\n",
        "   \\end{array}\\right.$"
      ],
      "metadata": {
        "id": "_h5uhAOCYPtw"
      }
    },
    {
      "cell_type": "code",
      "source": [
        " def relu(x):\n",
        "  return x if x >= 0 else 0"
      ],
      "metadata": {
        "id": "dvWqPJxcYWOM"
      },
      "execution_count": 96,
      "outputs": []
    },
    {
      "cell_type": "code",
      "source": [
        "# What do you expect to see?\n",
        "print(relu(-3))\n",
        "\n",
        "# What do you expect to see?\n",
        "print(relu(3))"
      ],
      "metadata": {
        "colab": {
          "base_uri": "https://localhost:8080/"
        },
        "id": "Fe1ZugLkYbns",
        "outputId": "af8be759-8ec0-42d2-9fa3-850055b446bd"
      },
      "execution_count": 97,
      "outputs": [
        {
          "output_type": "stream",
          "name": "stdout",
          "text": [
            "0\n",
            "3\n"
          ]
        }
      ]
    },
    {
      "cell_type": "markdown",
      "source": [
        "#### Exercise FUNC.2\n",
        "Using a for loop, write a function that computes the [L1 norm](https://mathworld.wolfram.com/L1-Norm.html) of a vector, represented as a list.\n",
        "\n",
        "Hint: `import math` and you can use `math.sqrt()`"
      ],
      "metadata": {
        "id": "te8EZVsbYjrv"
      }
    },
    {
      "cell_type": "code",
      "source": [
        "import math\n",
        "\n",
        "def l1_norm(vector):\n",
        "  sum = 0\n",
        "  for number in vector:\n",
        "    sum += abs(number)\n",
        "  return sum"
      ],
      "metadata": {
        "id": "ZtYX9GFrYvvk"
      },
      "execution_count": 113,
      "outputs": []
    },
    {
      "cell_type": "code",
      "source": [
        "my_vector = [0.5, -1.2, 3.3, 4.5]\n",
        "\n",
        "# The result should be 9.5\n",
        "l1_norm(my_vector)"
      ],
      "metadata": {
        "colab": {
          "base_uri": "https://localhost:8080/"
        },
        "id": "ywqGvJ-lYyTp",
        "outputId": "ec384dc3-808f-49fd-f2e2-c820e35ceac7"
      },
      "execution_count": 114,
      "outputs": [
        {
          "output_type": "execute_result",
          "data": {
            "text/plain": [
              "9.5"
            ]
          },
          "metadata": {},
          "execution_count": 114
        }
      ]
    },
    {
      "cell_type": "markdown",
      "source": [
        "#### Exercise FUNC.3 \n",
        "Using a for loop and a conditional, write a function that returns the maximum value in a vector. You may assume that the given vector always has at least 1 element."
      ],
      "metadata": {
        "id": "9CvnPRZPaLHG"
      }
    },
    {
      "cell_type": "code",
      "source": [
        "def max_value(vector):\n",
        "  max_val = vector[0]\n",
        "  for i in vector:\n",
        "    if i > max_val:\n",
        "      max_val = i\n",
        "  return max_val"
      ],
      "metadata": {
        "id": "pwNvg7-oaJ2f"
      },
      "execution_count": 134,
      "outputs": []
    },
    {
      "cell_type": "code",
      "source": [
        "my_vector = [0.5, -1.2, 3.3, 4.5]\n",
        "print(max_value(my_vector))\n",
        "\n",
        "my_vector = [-3.5]\n",
        "print(max_value(my_vector))\n",
        "\n",
        "my_vector = [-3.5, 2, -1.2, -10, 1]\n",
        "print(max_value(my_vector))"
      ],
      "metadata": {
        "colab": {
          "base_uri": "https://localhost:8080/"
        },
        "id": "uaZ2ztu5aku2",
        "outputId": "5eed9430-9f18-4f2e-fc52-f74a55c915cb"
      },
      "execution_count": 135,
      "outputs": [
        {
          "output_type": "stream",
          "name": "stdout",
          "text": [
            "4.5\n",
            "-3.5\n",
            "2\n"
          ]
        }
      ]
    },
    {
      "cell_type": "markdown",
      "source": [
        "#### Exercise FUNC.4\n",
        "Write a function that generates a multiplication table given a number as the input. Generate multiplications using multipliers from 1, 2, ..., 12.\n",
        "\n",
        "Note that this function does not need to `return` anything. It only needs to print some output.\n",
        "\n",
        "For example, `multiplication_table(5)` should display the following text:\n",
        "\n",
        "5 x 1 = 5\n",
        "\n",
        "5 x 2 = 10\n",
        "\n",
        "5 x 3 = 15\n",
        "\n",
        "5 x 4 = 20\n",
        "\n",
        "5 x 5 = 25\n",
        "\n",
        "5 x 6 = 30\n",
        "\n",
        "5 x 7 = 35\n",
        "\n",
        "5 x 8 = 40\n",
        "\n",
        "5 x 9 = 45\n",
        "\n",
        "5 x 10 = 50\n",
        "\n",
        "5 x 11 = 55\n",
        "\n",
        "5 x 12 = 60\n",
        "\n",
        "**Extra credit**: accept an additional parameter `max_multiplier` (default = 12), then generate the multiplication table from 1 up to `max_multiplier`."
      ],
      "metadata": {
        "id": "LNVnEBkObj1C"
      }
    },
    {
      "cell_type": "code",
      "source": [
        "def multiplication_table(number, max_multiplier = 12):\n",
        "  # Your code here\n",
        "  print()"
      ],
      "metadata": {
        "id": "dlpnUNz9btCd"
      },
      "execution_count": null,
      "outputs": []
    },
    {
      "cell_type": "code",
      "source": [
        "multiplication_table(5)"
      ],
      "metadata": {
        "colab": {
          "base_uri": "https://localhost:8080/"
        },
        "id": "sarCIwTCcKx6",
        "outputId": "ac4b8c61-d91e-4853-9377-a5252c5e0222"
      },
      "execution_count": null,
      "outputs": [
        {
          "output_type": "stream",
          "name": "stdout",
          "text": [
            "5 x 1 = 5\n",
            "5 x 2 = 10\n",
            "5 x 3 = 15\n",
            "5 x 4 = 20\n",
            "5 x 5 = 25\n",
            "5 x 6 = 30\n",
            "5 x 7 = 35\n",
            "5 x 8 = 40\n",
            "5 x 9 = 45\n",
            "5 x 10 = 50\n",
            "5 x 11 = 55\n",
            "5 x 12 = 60\n"
          ]
        }
      ]
    },
    {
      "cell_type": "markdown",
      "source": [
        "## Extra Challenge"
      ],
      "metadata": {
        "id": "Bo7sH5fXhmPW"
      }
    },
    {
      "cell_type": "code",
      "source": [
        "import requests\n",
        "r = requests.get('https://jsonplaceholder.typicode.com/posts') #JSON API\n",
        "data = r.json()"
      ],
      "metadata": {
        "id": "1arkCzfcCzCF"
      },
      "execution_count": null,
      "outputs": []
    },
    {
      "cell_type": "code",
      "source": [
        "data"
      ],
      "metadata": {
        "id": "LgU3gqAmCzJe"
      },
      "execution_count": null,
      "outputs": []
    },
    {
      "cell_type": "code",
      "source": [
        "# Your code here"
      ],
      "metadata": {
        "id": "HfQq5dH1EElu"
      },
      "execution_count": null,
      "outputs": []
    },
    {
      "cell_type": "code",
      "source": [
        "value = 2"
      ],
      "metadata": {
        "id": "GjIUmTXSEEjf"
      },
      "execution_count": null,
      "outputs": []
    },
    {
      "cell_type": "code",
      "source": [
        "name = value\n",
        "\n",
        "count = 2"
      ],
      "metadata": {
        "id": "ujnWUh20EEg-"
      },
      "execution_count": null,
      "outputs": []
    },
    {
      "cell_type": "code",
      "source": [],
      "metadata": {
        "id": "gH77SSv_py2w"
      },
      "execution_count": null,
      "outputs": []
    }
  ],
  "metadata": {
    "colab": {
      "provenance": [],
      "collapsed_sections": [
        "8RsAU8lRQVGu",
        "czqeGl1bSpQs",
        "8ZjELYDAYvrs",
        "7l0RjE44Zm8l"
      ],
      "include_colab_link": true
    },
    "kernelspec": {
      "display_name": "Python 3",
      "name": "python3"
    },
    "language_info": {
      "name": "python"
    }
  },
  "nbformat": 4,
  "nbformat_minor": 0
}